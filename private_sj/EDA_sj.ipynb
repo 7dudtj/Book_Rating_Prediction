{
 "cells": [
  {
   "cell_type": "markdown",
   "metadata": {},
   "source": [
    "### Settings"
   ]
  },
  {
   "cell_type": "code",
   "execution_count": 1,
   "metadata": {},
   "outputs": [],
   "source": [
    "import tqdm\n",
    "import pandas as pd\n",
    "import numpy as np\n",
    "import seaborn as sns\n",
    "import matplotlib.pyplot as plt"
   ]
  },
  {
   "cell_type": "code",
   "execution_count": 2,
   "metadata": {},
   "outputs": [],
   "source": [
    "train_ratings = pd.read_csv('../data/train_ratings.csv')\n",
    "test_ratings = pd.read_csv('../data/test_ratings.csv')\n",
    "books = pd.read_csv('../data/books.csv')\n",
    "users = pd.read_csv('../data/users.csv')"
   ]
  },
  {
   "cell_type": "code",
   "execution_count": 3,
   "metadata": {},
   "outputs": [
    {
     "data": {
      "text/plain": [
       "295"
      ]
     },
     "execution_count": 3,
     "metadata": {},
     "output_type": "execute_result"
    }
   ],
   "source": [
    "# a,b,c,d 처럼 주소를 적은 사람들\n",
    "sum(users.location.apply(lambda x : len(x.split(','))) > 3)"
   ]
  },
  {
   "cell_type": "markdown",
   "metadata": {},
   "source": [
    "### def process_context_data 함수에서 EDA 진행"
   ]
  },
  {
   "cell_type": "markdown",
   "metadata": {},
   "source": [
    "#### location 결측치 처리"
   ]
  },
  {
   "cell_type": "code",
   "execution_count": 72,
   "metadata": {},
   "outputs": [
    {
     "name": "stderr",
     "output_type": "stream",
     "text": [
      "/tmp/ipykernel_21930/393203891.py:3: FutureWarning: The default value of regex will change from True to False in a future version.\n",
      "  users['location'] = users['location'].str.replace(r'[^0-9a-zA-Z:,]', '') # 특수문자 제거\n",
      "  1%|          | 9/1160 [00:00<00:13, 87.87it/s]"
     ]
    },
    {
     "name": "stdout",
     "output_type": "stream",
     "text": [
      "user_id                 0\n",
      "location                0\n",
      "age                 27833\n",
      "location_city         121\n",
      "location_state       3216\n",
      "location_country     2104\n",
      "dtype: int64\n"
     ]
    },
    {
     "name": "stderr",
     "output_type": "stream",
     "text": [
      "100%|██████████| 1160/1160 [00:13<00:00, 88.80it/s]\n",
      "  1%|          | 11/1543 [00:00<00:15, 98.48it/s]"
     ]
    },
    {
     "name": "stdout",
     "output_type": "stream",
     "text": [
      "-------------------------\n",
      "user_id                 0\n",
      "location                0\n",
      "age                 27833\n",
      "location_city         121\n",
      "location_state       3216\n",
      "location_country      166\n",
      "dtype: int64\n",
      "-------------------------\n"
     ]
    },
    {
     "name": "stderr",
     "output_type": "stream",
     "text": [
      "100%|██████████| 1543/1543 [00:15<00:00, 96.92it/s] \n",
      " 21%|██▏       | 9/42 [00:00<00:00, 88.04it/s]"
     ]
    },
    {
     "name": "stdout",
     "output_type": "stream",
     "text": [
      "-------------------------\n",
      "user_id                 0\n",
      "location                0\n",
      "age                 27833\n",
      "location_city         121\n",
      "location_state        475\n",
      "location_country      166\n",
      "dtype: int64\n",
      "-------------------------\n"
     ]
    },
    {
     "name": "stderr",
     "output_type": "stream",
     "text": [
      "100%|██████████| 42/42 [00:00<00:00, 84.45it/s]\n"
     ]
    },
    {
     "name": "stdout",
     "output_type": "stream",
     "text": [
      "-------------------------\n",
      "user_id                 0\n",
      "location                0\n",
      "age                 27833\n",
      "location_city         121\n",
      "location_state        475\n",
      "location_country      121\n",
      "dtype: int64\n",
      "-------------------------\n"
     ]
    }
   ],
   "source": [
    "# def process_context_data(users, books, ratings1, ratings2):\n",
    "ratings1, ratings2 = train_ratings, test_ratings # 함수안에서는 제거해줘야 하는 코드\n",
    "users['location'] = users['location'].str.replace(r'[^0-9a-zA-Z:,]', '') # 특수문자 제거\n",
    "users['location_city'] = users['location'].apply(lambda x: x.split(',')[0].strip() if ((x.split(',')[0].strip()!='na' and x.split(',')[0].strip()!='' and len(x.split(',')) > 3\n",
    ") or len(x.split(',')) == 3) else x.split(',')[-3].strip()) # 만약 location이 4개로 나눠지는데, 첫번째가 na가 아니거나, location이 3개로 밖에 안쪼개진다면 0번째 값, 아니면 뒤에서 3번째 값\n",
    "users['location_state'] = users['location'].apply(lambda x: x.split(',')[1].strip() if len(x.split(',')) == 3 else x.split(',')[-2].strip())\n",
    "users['location_country'] = users['location'].apply(lambda x: x.split(',')[2].strip() if len(x.split(',')) == 3 else x.split(',')[-1].strip())\n",
    "\n",
    "users = users.replace('na', np.nan) #특수문자 제거로 n/a가 na로 바뀌게 되었습니다. 따라서 이를 컴퓨터가 인식할 수 있는 결측값으로 변환합니다.\n",
    "users = users.replace('', np.nan) # 일부 경우 , , ,으로 입력된 경우가 있었으므로 이런 경우에도 결측값으로 변환합니다.\n",
    "\n",
    "# location 결측치 대치\n",
    "print(users.isna().sum())\n",
    "isna_notnull = [('location_country', 'location_city'), ('location_state', 'location_city'), ('location_country', 'location_state')]\n",
    "for a,b in isna_notnull:\n",
    "    modify_location = list(set(users[(users[a].isna())&(users[b].notnull())][b].values))\n",
    "    \n",
    "    # location_list = []\n",
    "    for location in tqdm.tqdm(modify_location):\n",
    "        try:\n",
    "            right_location = users[(users[b] == location)][a].value_counts().index[0]\n",
    "            users.loc[(users[b] == location) & users[a].isna(), a] = right_location\n",
    "            # location_list.append(right_location)\n",
    "        except:\n",
    "            pass\n",
    "    # for location in location_list:\n",
    "        # users.loc[users[users['location_city']==location.split(',')[0]].index,'location_state'] = location.split(',')[1]\n",
    "        # users.loc[users[users[b]==location.split(',')[0]].index,a] = location.split(',')[2]\n",
    "\n",
    "    print('-'*25)\n",
    "    print(users.isna().sum())\n",
    "    print('-'*25)\n",
    "# us 대신 usa로 처리\n",
    "users.loc[users['location_country'] == 'us', 'location_country'] = 'usa'\n",
    "users = users.drop(['location'], axis=1)\n",
    "\n",
    "ratings = pd.concat([ratings1, ratings2]).reset_index(drop=True)\n",
    "\n",
    "# 인덱싱 처리된 데이터 조인\n",
    "context_df = ratings.merge(users, on='user_id', how='left').merge(books[['isbn', 'category', 'publisher', 'language', 'book_author']], on='isbn', how='left')\n",
    "train_df = ratings1.merge(users, on='user_id', how='left').merge(books[['isbn', 'category', 'publisher', 'language', 'book_author']], on='isbn', how='left')\n",
    "test_df = ratings2.merge(users, on='user_id', how='left').merge(books[['isbn', 'category', 'publisher', 'language', 'book_author']], on='isbn', how='left')"
   ]
  },
  {
   "cell_type": "code",
   "execution_count": 77,
   "metadata": {},
   "outputs": [
    {
     "data": {
      "text/plain": [
       "user_id                 0\n",
       "age                 27833\n",
       "location_city         121\n",
       "location_state        475\n",
       "location_country      121\n",
       "dtype: int64"
      ]
     },
     "execution_count": 77,
     "metadata": {},
     "output_type": "execute_result"
    }
   ],
   "source": [
    "users.isna().sum()"
   ]
  },
  {
   "cell_type": "code",
   "execution_count": 76,
   "metadata": {},
   "outputs": [
    {
     "data": {
      "text/plain": [
       "27833"
      ]
     },
     "execution_count": 76,
     "metadata": {},
     "output_type": "execute_result"
    }
   ],
   "source": [
    "age_missing = list(users[users['age'].isna()]['user_id'])\n",
    "len(age_missing)"
   ]
  },
  {
   "cell_type": "markdown",
   "metadata": {},
   "source": [
    "#### age 결측치 처리 1: train_df 내에서 유저가 소비한 책중 5권을 골라 그 책을 소비한 사람의 연령의 중앙값들의 중앙값으로 대치"
   ]
  },
  {
   "cell_type": "code",
   "execution_count": 78,
   "metadata": {},
   "outputs": [
    {
     "name": "stderr",
     "output_type": "stream",
     "text": [
      "  0%|          | 18/27833 [00:00<02:36, 178.29it/s]/opt/conda/lib/python3.8/site-packages/numpy/core/fromnumeric.py:3432: RuntimeWarning: Mean of empty slice.\n",
      "  return _methods._mean(a, axis=axis, dtype=dtype,\n",
      "/opt/conda/lib/python3.8/site-packages/numpy/core/_methods.py:190: RuntimeWarning: invalid value encountered in double_scalars\n",
      "  ret = ret.dtype.type(ret / rcount)\n",
      "100%|██████████| 27833/27833 [00:27<00:00, 1012.55it/s]\n"
     ]
    }
   ],
   "source": [
    "age_missing = list(users[users['age'].isna()]['user_id'])\n",
    "isbn_groupby = train_df.groupby('isbn').median()\n",
    "for uid in tqdm.tqdm(age_missing):\n",
    "    isbn_of_uid = list(train_df[train_df['user_id'] == uid]['isbn'][:5]) # 유저가 읽은 책 5권\n",
    "    median_ages = []  # 책 5권을 소비한 사람들의 나이의 중앙값을 저장할 리스트\n",
    "    for isbn_book in isbn_of_uid:\n",
    "        median_age_of_book = isbn_groupby.loc[isbn_book,'age'] # 한 권의 책에 대한 나이 중앙값\n",
    "        if not pd.isna(median_age_of_book): # na가 아니면 리스트에 추가\n",
    "            median_ages.append(median_age_of_book)\n",
    "    modify_age = np.median(median_ages)\n",
    "    users.loc[users['user_id'] == uid,'age'] = modify_age"
   ]
  },
  {
   "cell_type": "code",
   "execution_count": 79,
   "metadata": {},
   "outputs": [
    {
     "data": {
      "text/plain": [
       "user_id                0\n",
       "age                 8523\n",
       "location_city        121\n",
       "location_state       475\n",
       "location_country     121\n",
       "dtype: int64"
      ]
     },
     "execution_count": 79,
     "metadata": {},
     "output_type": "execute_result"
    }
   ],
   "source": [
    "users.isna().sum()"
   ]
  },
  {
   "cell_type": "markdown",
   "metadata": {},
   "source": [
    "#### age 결측치 처리 2: 속한 나라의 중앙값으로 대치"
   ]
  },
  {
   "cell_type": "code",
   "execution_count": 81,
   "metadata": {},
   "outputs": [
    {
     "name": "stderr",
     "output_type": "stream",
     "text": [
      "8506it [00:03, 2834.15it/s]\n"
     ]
    }
   ],
   "source": [
    "country_median_age = users.groupby('location_country').median()\n",
    "for idx, row in tqdm.tqdm(users[users['age'].isna() & users['location_country'].notnull()].iterrows()):\n",
    "    row_country = row['location_country']\n",
    "    modify_age = country_median_age.loc[row_country,'age']\n",
    "    \n",
    "    if not pd.isna(modify_age):\n",
    "        users.loc[users['user_id'] == row['user_id'],'age'] = modify_age"
   ]
  },
  {
   "cell_type": "code",
   "execution_count": 82,
   "metadata": {},
   "outputs": [
    {
     "data": {
      "text/plain": [
       "user_id               0\n",
       "age                  35\n",
       "location_city       121\n",
       "location_state      475\n",
       "location_country    121\n",
       "dtype: int64"
      ]
     },
     "execution_count": 82,
     "metadata": {},
     "output_type": "execute_result"
    }
   ],
   "source": [
    "users.isna().sum()"
   ]
  },
  {
   "cell_type": "markdown",
   "metadata": {},
   "source": [
    "아직도 결측 상태인 35명에 대해서는 전체 평균 나이값을 넣어준다"
   ]
  },
  {
   "cell_type": "code",
   "execution_count": 86,
   "metadata": {},
   "outputs": [],
   "source": [
    "users['age'] = users['age'].fillna(users['age'].mean())"
   ]
  },
  {
   "cell_type": "code",
   "execution_count": 107,
   "metadata": {},
   "outputs": [],
   "source": [
    "users['location_city'] = users['location_city'].apply(lambda x : str(x))\n",
    "users['location_state'] = users['location_state'].apply(lambda x : str(x))\n",
    "users['location_country'] = users['location_country'].apply(lambda x : str(x))"
   ]
  },
  {
   "cell_type": "code",
   "execution_count": 113,
   "metadata": {},
   "outputs": [],
   "source": [
    "users['location'] = users['location_city'] + ',' + users['location_state'] + ',' + users['location_country']"
   ]
  },
  {
   "cell_type": "code",
   "execution_count": 123,
   "metadata": {},
   "outputs": [
    {
     "data": {
      "text/html": [
       "<div>\n",
       "<style scoped>\n",
       "    .dataframe tbody tr th:only-of-type {\n",
       "        vertical-align: middle;\n",
       "    }\n",
       "\n",
       "    .dataframe tbody tr th {\n",
       "        vertical-align: top;\n",
       "    }\n",
       "\n",
       "    .dataframe thead th {\n",
       "        text-align: right;\n",
       "    }\n",
       "</style>\n",
       "<table border=\"1\" class=\"dataframe\">\n",
       "  <thead>\n",
       "    <tr style=\"text-align: right;\">\n",
       "      <th></th>\n",
       "      <th>user_id</th>\n",
       "      <th>location</th>\n",
       "      <th>age</th>\n",
       "    </tr>\n",
       "  </thead>\n",
       "  <tbody>\n",
       "    <tr>\n",
       "      <th>0</th>\n",
       "      <td>8</td>\n",
       "      <td>timmins,ontario,canada</td>\n",
       "      <td>30.0</td>\n",
       "    </tr>\n",
       "    <tr>\n",
       "      <th>1</th>\n",
       "      <td>11400</td>\n",
       "      <td>ottawa,ontario,canada</td>\n",
       "      <td>49.0</td>\n",
       "    </tr>\n",
       "    <tr>\n",
       "      <th>2</th>\n",
       "      <td>11676</td>\n",
       "      <td>nan,nan,nan</td>\n",
       "      <td>33.0</td>\n",
       "    </tr>\n",
       "    <tr>\n",
       "      <th>3</th>\n",
       "      <td>67544</td>\n",
       "      <td>toronto,ontario,canada</td>\n",
       "      <td>30.0</td>\n",
       "    </tr>\n",
       "    <tr>\n",
       "      <th>4</th>\n",
       "      <td>85526</td>\n",
       "      <td>victoria,britishcolumbia,canada</td>\n",
       "      <td>36.0</td>\n",
       "    </tr>\n",
       "  </tbody>\n",
       "</table>\n",
       "</div>"
      ],
      "text/plain": [
       "   user_id                         location   age\n",
       "0        8           timmins,ontario,canada  30.0\n",
       "1    11400            ottawa,ontario,canada  49.0\n",
       "2    11676                      nan,nan,nan  33.0\n",
       "3    67544           toronto,ontario,canada  30.0\n",
       "4    85526  victoria,britishcolumbia,canada  36.0"
      ]
     },
     "execution_count": 123,
     "metadata": {},
     "output_type": "execute_result"
    }
   ],
   "source": [
    "users = users.drop(['location_city', 'location_state', 'location_country'], axis=1)\n",
    "users = users[['user_id', 'location', 'age']]\n",
    "users.head(5)"
   ]
  },
  {
   "cell_type": "code",
   "execution_count": 124,
   "metadata": {},
   "outputs": [
    {
     "data": {
      "text/plain": [
       "user_id     0\n",
       "location    0\n",
       "age         0\n",
       "dtype: int64"
      ]
     },
     "execution_count": 124,
     "metadata": {},
     "output_type": "execute_result"
    }
   ],
   "source": [
    "users.isna().sum()"
   ]
  },
  {
   "cell_type": "markdown",
   "metadata": {},
   "source": [
    "#### 결측치 처리 후 data save, load (users_sj)"
   ]
  },
  {
   "cell_type": "code",
   "execution_count": 126,
   "metadata": {},
   "outputs": [],
   "source": [
    "users.to_csv('./data/users_sj.csv',index=False)\n"
   ]
  },
  {
   "cell_type": "markdown",
   "metadata": {},
   "source": [
    "## books.csv 전처리"
   ]
  },
  {
   "cell_type": "code",
   "execution_count": 4,
   "metadata": {},
   "outputs": [
    {
     "data": {
      "text/html": [
       "<div>\n",
       "<style scoped>\n",
       "    .dataframe tbody tr th:only-of-type {\n",
       "        vertical-align: middle;\n",
       "    }\n",
       "\n",
       "    .dataframe tbody tr th {\n",
       "        vertical-align: top;\n",
       "    }\n",
       "\n",
       "    .dataframe thead th {\n",
       "        text-align: right;\n",
       "    }\n",
       "</style>\n",
       "<table border=\"1\" class=\"dataframe\">\n",
       "  <thead>\n",
       "    <tr style=\"text-align: right;\">\n",
       "      <th></th>\n",
       "      <th>isbn</th>\n",
       "      <th>book_title</th>\n",
       "      <th>book_author</th>\n",
       "      <th>year_of_publication</th>\n",
       "      <th>publisher</th>\n",
       "      <th>img_url</th>\n",
       "      <th>language</th>\n",
       "      <th>category</th>\n",
       "      <th>summary</th>\n",
       "      <th>img_path</th>\n",
       "    </tr>\n",
       "  </thead>\n",
       "  <tbody>\n",
       "    <tr>\n",
       "      <th>0</th>\n",
       "      <td>0002005018</td>\n",
       "      <td>Clara Callan</td>\n",
       "      <td>Richard Bruce Wright</td>\n",
       "      <td>2001.0</td>\n",
       "      <td>HarperFlamingo Canada</td>\n",
       "      <td>http://images.amazon.com/images/P/0002005018.0...</td>\n",
       "      <td>en</td>\n",
       "      <td>['Actresses']</td>\n",
       "      <td>In a small town in Canada, Clara Callan reluct...</td>\n",
       "      <td>images/0002005018.01.THUMBZZZ.jpg</td>\n",
       "    </tr>\n",
       "    <tr>\n",
       "      <th>1</th>\n",
       "      <td>0060973129</td>\n",
       "      <td>Decision in Normandy</td>\n",
       "      <td>Carlo D'Este</td>\n",
       "      <td>1991.0</td>\n",
       "      <td>HarperPerennial</td>\n",
       "      <td>http://images.amazon.com/images/P/0060973129.0...</td>\n",
       "      <td>en</td>\n",
       "      <td>['1940-1949']</td>\n",
       "      <td>Here, for the first time in paperback, is an o...</td>\n",
       "      <td>images/0060973129.01.THUMBZZZ.jpg</td>\n",
       "    </tr>\n",
       "    <tr>\n",
       "      <th>2</th>\n",
       "      <td>0374157065</td>\n",
       "      <td>Flu: The Story of the Great Influenza Pandemic...</td>\n",
       "      <td>Gina Bari Kolata</td>\n",
       "      <td>1999.0</td>\n",
       "      <td>Farrar Straus Giroux</td>\n",
       "      <td>http://images.amazon.com/images/P/0374157065.0...</td>\n",
       "      <td>en</td>\n",
       "      <td>['Medical']</td>\n",
       "      <td>Describes the great flu epidemic of 1918, an o...</td>\n",
       "      <td>images/0374157065.01.THUMBZZZ.jpg</td>\n",
       "    </tr>\n",
       "    <tr>\n",
       "      <th>3</th>\n",
       "      <td>0399135782</td>\n",
       "      <td>The Kitchen God's Wife</td>\n",
       "      <td>Amy Tan</td>\n",
       "      <td>1991.0</td>\n",
       "      <td>Putnam Pub Group</td>\n",
       "      <td>http://images.amazon.com/images/P/0399135782.0...</td>\n",
       "      <td>en</td>\n",
       "      <td>['Fiction']</td>\n",
       "      <td>A Chinese immigrant who is convinced she is dy...</td>\n",
       "      <td>images/0399135782.01.THUMBZZZ.jpg</td>\n",
       "    </tr>\n",
       "    <tr>\n",
       "      <th>4</th>\n",
       "      <td>0425176428</td>\n",
       "      <td>What If?: The World's Foremost Military Histor...</td>\n",
       "      <td>Robert Cowley</td>\n",
       "      <td>2000.0</td>\n",
       "      <td>Berkley Publishing Group</td>\n",
       "      <td>http://images.amazon.com/images/P/0425176428.0...</td>\n",
       "      <td>en</td>\n",
       "      <td>['History']</td>\n",
       "      <td>Essays by respected military historians, inclu...</td>\n",
       "      <td>images/0425176428.01.THUMBZZZ.jpg</td>\n",
       "    </tr>\n",
       "  </tbody>\n",
       "</table>\n",
       "</div>"
      ],
      "text/plain": [
       "         isbn                                         book_title  \\\n",
       "0  0002005018                                       Clara Callan   \n",
       "1  0060973129                               Decision in Normandy   \n",
       "2  0374157065  Flu: The Story of the Great Influenza Pandemic...   \n",
       "3  0399135782                             The Kitchen God's Wife   \n",
       "4  0425176428  What If?: The World's Foremost Military Histor...   \n",
       "\n",
       "            book_author  year_of_publication                 publisher  \\\n",
       "0  Richard Bruce Wright               2001.0     HarperFlamingo Canada   \n",
       "1          Carlo D'Este               1991.0           HarperPerennial   \n",
       "2      Gina Bari Kolata               1999.0      Farrar Straus Giroux   \n",
       "3               Amy Tan               1991.0          Putnam Pub Group   \n",
       "4         Robert Cowley               2000.0  Berkley Publishing Group   \n",
       "\n",
       "                                             img_url language       category  \\\n",
       "0  http://images.amazon.com/images/P/0002005018.0...       en  ['Actresses']   \n",
       "1  http://images.amazon.com/images/P/0060973129.0...       en  ['1940-1949']   \n",
       "2  http://images.amazon.com/images/P/0374157065.0...       en    ['Medical']   \n",
       "3  http://images.amazon.com/images/P/0399135782.0...       en    ['Fiction']   \n",
       "4  http://images.amazon.com/images/P/0425176428.0...       en    ['History']   \n",
       "\n",
       "                                             summary  \\\n",
       "0  In a small town in Canada, Clara Callan reluct...   \n",
       "1  Here, for the first time in paperback, is an o...   \n",
       "2  Describes the great flu epidemic of 1918, an o...   \n",
       "3  A Chinese immigrant who is convinced she is dy...   \n",
       "4  Essays by respected military historians, inclu...   \n",
       "\n",
       "                            img_path  \n",
       "0  images/0002005018.01.THUMBZZZ.jpg  \n",
       "1  images/0060973129.01.THUMBZZZ.jpg  \n",
       "2  images/0374157065.01.THUMBZZZ.jpg  \n",
       "3  images/0399135782.01.THUMBZZZ.jpg  \n",
       "4  images/0425176428.01.THUMBZZZ.jpg  "
      ]
     },
     "execution_count": 4,
     "metadata": {},
     "output_type": "execute_result"
    }
   ],
   "source": [
    "books.head()"
   ]
  },
  {
   "cell_type": "code",
   "execution_count": 5,
   "metadata": {},
   "outputs": [
    {
     "data": {
      "text/plain": [
       "isbn                       0\n",
       "book_title                 0\n",
       "book_author                0\n",
       "year_of_publication        0\n",
       "publisher                  0\n",
       "img_url                    0\n",
       "language               67227\n",
       "category               68851\n",
       "summary                67227\n",
       "img_path                   0\n",
       "dtype: int64"
      ]
     },
     "execution_count": 5,
     "metadata": {},
     "output_type": "execute_result"
    }
   ],
   "source": [
    "books.isna().sum()"
   ]
  },
  {
   "cell_type": "markdown",
   "metadata": {},
   "source": [
    "### publisher"
   ]
  },
  {
   "cell_type": "code",
   "execution_count": 6,
   "metadata": {},
   "outputs": [
    {
     "data": {
      "text/html": [
       "<div>\n",
       "<style scoped>\n",
       "    .dataframe tbody tr th:only-of-type {\n",
       "        vertical-align: middle;\n",
       "    }\n",
       "\n",
       "    .dataframe tbody tr th {\n",
       "        vertical-align: top;\n",
       "    }\n",
       "\n",
       "    .dataframe thead th {\n",
       "        text-align: right;\n",
       "    }\n",
       "</style>\n",
       "<table border=\"1\" class=\"dataframe\">\n",
       "  <thead>\n",
       "    <tr style=\"text-align: right;\">\n",
       "      <th></th>\n",
       "      <th>publisher</th>\n",
       "      <th>count</th>\n",
       "    </tr>\n",
       "  </thead>\n",
       "  <tbody>\n",
       "    <tr>\n",
       "      <th>0</th>\n",
       "      <td>Harlequin</td>\n",
       "      <td>3005</td>\n",
       "    </tr>\n",
       "    <tr>\n",
       "      <th>1</th>\n",
       "      <td>Ballantine Books</td>\n",
       "      <td>2322</td>\n",
       "    </tr>\n",
       "    <tr>\n",
       "      <th>2</th>\n",
       "      <td>Pocket</td>\n",
       "      <td>2274</td>\n",
       "    </tr>\n",
       "    <tr>\n",
       "      <th>3</th>\n",
       "      <td>Penguin Books</td>\n",
       "      <td>1943</td>\n",
       "    </tr>\n",
       "    <tr>\n",
       "      <th>4</th>\n",
       "      <td>Bantam Books</td>\n",
       "      <td>1938</td>\n",
       "    </tr>\n",
       "  </tbody>\n",
       "</table>\n",
       "</div>"
      ],
      "text/plain": [
       "          publisher  count\n",
       "0         Harlequin   3005\n",
       "1  Ballantine Books   2322\n",
       "2            Pocket   2274\n",
       "3     Penguin Books   1943\n",
       "4      Bantam Books   1938"
      ]
     },
     "execution_count": 6,
     "metadata": {},
     "output_type": "execute_result"
    }
   ],
   "source": [
    "publisher_dict=(books['publisher'].value_counts()).to_dict()\n",
    "publisher_count_df= pd.DataFrame(list(publisher_dict.items()),columns = ['publisher','count'])\n",
    "\n",
    "publisher_count_df = publisher_count_df.sort_values(by=['count'], ascending = False)\n",
    "publisher_count_df.head()"
   ]
  },
  {
   "cell_type": "code",
   "execution_count": 7,
   "metadata": {},
   "outputs": [
    {
     "data": {
      "text/plain": [
       "11571"
      ]
     },
     "execution_count": 7,
     "metadata": {},
     "output_type": "execute_result"
    }
   ],
   "source": [
    "books['publisher'].nunique() # 수정 전 출판사 개수"
   ]
  },
  {
   "cell_type": "code",
   "execution_count": 8,
   "metadata": {},
   "outputs": [],
   "source": [
    "modify_list = publisher_count_df[publisher_count_df['count']>1].publisher.values\n",
    "for publisher in modify_list:\n",
    "    try:\n",
    "        number = books[books['publisher']==publisher]['isbn'].apply(lambda x: x[:4]).value_counts().index[0]\n",
    "        right_publisher = books[books['isbn'].apply(lambda x: x[:4])==number]['publisher'].value_counts().index[0]\n",
    "        books.loc[books[books['isbn'].apply(lambda x: x[:4])==number].index,'publisher'] = right_publisher\n",
    "    except: \n",
    "        pass"
   ]
  },
  {
   "cell_type": "code",
   "execution_count": 9,
   "metadata": {},
   "outputs": [
    {
     "data": {
      "text/plain": [
       "1523"
      ]
     },
     "execution_count": 9,
     "metadata": {},
     "output_type": "execute_result"
    }
   ],
   "source": [
    "books['publisher'].nunique() # 수정 후 출판사 개수"
   ]
  },
  {
   "cell_type": "code",
   "execution_count": 10,
   "metadata": {},
   "outputs": [
    {
     "data": {
      "text/html": [
       "<div>\n",
       "<style scoped>\n",
       "    .dataframe tbody tr th:only-of-type {\n",
       "        vertical-align: middle;\n",
       "    }\n",
       "\n",
       "    .dataframe tbody tr th {\n",
       "        vertical-align: top;\n",
       "    }\n",
       "\n",
       "    .dataframe thead th {\n",
       "        text-align: right;\n",
       "    }\n",
       "</style>\n",
       "<table border=\"1\" class=\"dataframe\">\n",
       "  <thead>\n",
       "    <tr style=\"text-align: right;\">\n",
       "      <th></th>\n",
       "      <th>publisher</th>\n",
       "      <th>count</th>\n",
       "    </tr>\n",
       "  </thead>\n",
       "  <tbody>\n",
       "    <tr>\n",
       "      <th>0</th>\n",
       "      <td>Pocket</td>\n",
       "      <td>7306</td>\n",
       "    </tr>\n",
       "    <tr>\n",
       "      <th>1</th>\n",
       "      <td>Harlequin</td>\n",
       "      <td>5268</td>\n",
       "    </tr>\n",
       "    <tr>\n",
       "      <th>2</th>\n",
       "      <td>Bantam Books</td>\n",
       "      <td>4815</td>\n",
       "    </tr>\n",
       "    <tr>\n",
       "      <th>3</th>\n",
       "      <td>St. Martin's Press</td>\n",
       "      <td>4043</td>\n",
       "    </tr>\n",
       "    <tr>\n",
       "      <th>4</th>\n",
       "      <td>Vintage Books USA</td>\n",
       "      <td>3822</td>\n",
       "    </tr>\n",
       "  </tbody>\n",
       "</table>\n",
       "</div>"
      ],
      "text/plain": [
       "            publisher  count\n",
       "0              Pocket   7306\n",
       "1           Harlequin   5268\n",
       "2        Bantam Books   4815\n",
       "3  St. Martin's Press   4043\n",
       "4   Vintage Books USA   3822"
      ]
     },
     "execution_count": 10,
     "metadata": {},
     "output_type": "execute_result"
    }
   ],
   "source": [
    "publisher_dict=(books['publisher'].value_counts()).to_dict()\n",
    "publisher_count_df= pd.DataFrame(list(publisher_dict.items()),columns = ['publisher','count'])\n",
    "\n",
    "publisher_count_df = publisher_count_df.sort_values(by=['count'], ascending = False)\n",
    "publisher_count_df.head()"
   ]
  },
  {
   "cell_type": "code",
   "execution_count": 11,
   "metadata": {},
   "outputs": [],
   "source": [
    "import re\n",
    "\n",
    "# 대괄호([,]) 제거\n",
    "books.loc[books[books['category'].notnull()].index, 'category'] = books[books['category'].notnull()]['category'].apply(lambda x: re.sub('[\\W_]+',' ',x).strip())"
   ]
  },
  {
   "cell_type": "markdown",
   "metadata": {},
   "source": [
    "#### category"
   ]
  },
  {
   "cell_type": "code",
   "execution_count": 12,
   "metadata": {},
   "outputs": [
    {
     "name": "stdout",
     "output_type": "stream",
     "text": [
      "(4105, 2)\n"
     ]
    },
    {
     "data": {
      "text/html": [
       "<div>\n",
       "<style scoped>\n",
       "    .dataframe tbody tr th:only-of-type {\n",
       "        vertical-align: middle;\n",
       "    }\n",
       "\n",
       "    .dataframe tbody tr th {\n",
       "        vertical-align: top;\n",
       "    }\n",
       "\n",
       "    .dataframe thead th {\n",
       "        text-align: right;\n",
       "    }\n",
       "</style>\n",
       "<table border=\"1\" class=\"dataframe\">\n",
       "  <thead>\n",
       "    <tr style=\"text-align: right;\">\n",
       "      <th></th>\n",
       "      <th>category</th>\n",
       "      <th>count</th>\n",
       "    </tr>\n",
       "  </thead>\n",
       "  <tbody>\n",
       "    <tr>\n",
       "      <th>0</th>\n",
       "      <td>fiction</td>\n",
       "      <td>33016</td>\n",
       "    </tr>\n",
       "    <tr>\n",
       "      <th>1</th>\n",
       "      <td>juvenile fiction</td>\n",
       "      <td>5835</td>\n",
       "    </tr>\n",
       "    <tr>\n",
       "      <th>2</th>\n",
       "      <td>biography autobiography</td>\n",
       "      <td>3326</td>\n",
       "    </tr>\n",
       "    <tr>\n",
       "      <th>3</th>\n",
       "      <td>history</td>\n",
       "      <td>1927</td>\n",
       "    </tr>\n",
       "    <tr>\n",
       "      <th>4</th>\n",
       "      <td>religion</td>\n",
       "      <td>1818</td>\n",
       "    </tr>\n",
       "  </tbody>\n",
       "</table>\n",
       "</div>"
      ],
      "text/plain": [
       "                  category  count\n",
       "0                  fiction  33016\n",
       "1         juvenile fiction   5835\n",
       "2  biography autobiography   3326\n",
       "3                  history   1927\n",
       "4                 religion   1818"
      ]
     },
     "execution_count": 12,
     "metadata": {},
     "output_type": "execute_result"
    }
   ],
   "source": [
    "# 카테고리 정리\n",
    "books['category'] = books['category'].str.lower()\n",
    "category_df = pd.DataFrame(books['category'].value_counts()).reset_index()\n",
    "category_df.columns = ['category','count']\n",
    "print(category_df.shape)\n",
    "category_df.head()"
   ]
  },
  {
   "cell_type": "markdown",
   "metadata": {},
   "source": [
    "- 상위 카테고리로 묶기 "
   ]
  },
  {
   "cell_type": "code",
   "execution_count": 13,
   "metadata": {},
   "outputs": [],
   "source": [
    "books['category_high'] = books['category'].copy()\n",
    "# books.loc[books[books['category']=='biography'].index, 'category_high'] = 'biography autobiography'\n",
    "# books.loc[books[books['category']=='autobiography'].index,'category_high'] = 'biography autobiography'\n",
    "books.loc[books[books['category'].str.contains('history',na=False)].index,'category_high'] = 'history'\n",
    "\n",
    "categories = ['garden','crafts','physics','adventure','music','fiction','nonfiction','science','science fiction','social','homicide',\n",
    " 'sociology','disease','religion','christian','philosophy','psycholog','mathemat','agricult','environmental',\n",
    " 'business','poetry','drama','literary','travel','motion picture','children','cook','literature','electronic',\n",
    " 'humor','animal','bird','photograph','computer','house','ecology','family','architect','camp','criminal','language','india','biography']\n",
    "\n",
    "for category in categories:\n",
    "    books.loc[books[books['category'].str.contains(category,na=False)].index,'category_high'] = category"
   ]
  },
  {
   "cell_type": "code",
   "execution_count": 14,
   "metadata": {},
   "outputs": [
    {
     "name": "stdout",
     "output_type": "stream",
     "text": [
      "(4105, 2)\n"
     ]
    },
    {
     "data": {
      "text/html": [
       "<div>\n",
       "<style scoped>\n",
       "    .dataframe tbody tr th:only-of-type {\n",
       "        vertical-align: middle;\n",
       "    }\n",
       "\n",
       "    .dataframe tbody tr th {\n",
       "        vertical-align: top;\n",
       "    }\n",
       "\n",
       "    .dataframe thead th {\n",
       "        text-align: right;\n",
       "    }\n",
       "</style>\n",
       "<table border=\"1\" class=\"dataframe\">\n",
       "  <thead>\n",
       "    <tr style=\"text-align: right;\">\n",
       "      <th></th>\n",
       "      <th>category</th>\n",
       "      <th>count</th>\n",
       "    </tr>\n",
       "  </thead>\n",
       "  <tbody>\n",
       "    <tr>\n",
       "      <th>0</th>\n",
       "      <td>fiction</td>\n",
       "      <td>39677</td>\n",
       "    </tr>\n",
       "    <tr>\n",
       "      <th>1</th>\n",
       "      <td>biography</td>\n",
       "      <td>3351</td>\n",
       "    </tr>\n",
       "    <tr>\n",
       "      <th>2</th>\n",
       "      <td>history</td>\n",
       "      <td>1949</td>\n",
       "    </tr>\n",
       "    <tr>\n",
       "      <th>3</th>\n",
       "      <td>religion</td>\n",
       "      <td>1824</td>\n",
       "    </tr>\n",
       "    <tr>\n",
       "      <th>4</th>\n",
       "      <td>nonfiction</td>\n",
       "      <td>1427</td>\n",
       "    </tr>\n",
       "    <tr>\n",
       "      <th>5</th>\n",
       "      <td>humor</td>\n",
       "      <td>1291</td>\n",
       "    </tr>\n",
       "    <tr>\n",
       "      <th>6</th>\n",
       "      <td>social</td>\n",
       "      <td>1271</td>\n",
       "    </tr>\n",
       "    <tr>\n",
       "      <th>7</th>\n",
       "      <td>business</td>\n",
       "      <td>1146</td>\n",
       "    </tr>\n",
       "    <tr>\n",
       "      <th>8</th>\n",
       "      <td>cook</td>\n",
       "      <td>1125</td>\n",
       "    </tr>\n",
       "    <tr>\n",
       "      <th>9</th>\n",
       "      <td>body mind spirit</td>\n",
       "      <td>1113</td>\n",
       "    </tr>\n",
       "  </tbody>\n",
       "</table>\n",
       "</div>"
      ],
      "text/plain": [
       "           category  count\n",
       "0           fiction  39677\n",
       "1         biography   3351\n",
       "2           history   1949\n",
       "3          religion   1824\n",
       "4        nonfiction   1427\n",
       "5             humor   1291\n",
       "6            social   1271\n",
       "7          business   1146\n",
       "8              cook   1125\n",
       "9  body mind spirit   1113"
      ]
     },
     "execution_count": 14,
     "metadata": {},
     "output_type": "execute_result"
    }
   ],
   "source": [
    "category_high_df = pd.DataFrame(books['category_high'].value_counts()).reset_index()\n",
    "category_high_df.columns = ['category','count']\n",
    "print(category_df.shape)\n",
    "category_high_df.head(10)"
   ]
  },
  {
   "cell_type": "code",
   "execution_count": 15,
   "metadata": {},
   "outputs": [],
   "source": [
    "others_list = category_high_df[category_high_df['count']<10]['category'].values\n",
    "books.loc[books[books['category_high'].isin(others_list)].index, 'category_high']='others'"
   ]
  },
  {
   "cell_type": "code",
   "execution_count": 16,
   "metadata": {},
   "outputs": [
    {
     "data": {
      "text/plain": [
       "(4105, 209)"
      ]
     },
     "execution_count": 16,
     "metadata": {},
     "output_type": "execute_result"
    }
   ],
   "source": [
    "books['category'].nunique(), books['category_high'].nunique()"
   ]
  },
  {
   "cell_type": "code",
   "execution_count": 19,
   "metadata": {},
   "outputs": [],
   "source": [
    "books = books.drop(['category'], axis=1)\n",
    "books = books[['isbn', 'book_title', 'book_author', 'year_of_publication', 'publisher',\n",
    "       'img_url', 'language', 'category_high', 'summary', 'img_path',\n",
    "       ]]\n",
    "books.rename(columns = {'category_high':'category'},inplace=True)\n"
   ]
  },
  {
   "cell_type": "code",
   "execution_count": 20,
   "metadata": {},
   "outputs": [
    {
     "data": {
      "text/html": [
       "<div>\n",
       "<style scoped>\n",
       "    .dataframe tbody tr th:only-of-type {\n",
       "        vertical-align: middle;\n",
       "    }\n",
       "\n",
       "    .dataframe tbody tr th {\n",
       "        vertical-align: top;\n",
       "    }\n",
       "\n",
       "    .dataframe thead th {\n",
       "        text-align: right;\n",
       "    }\n",
       "</style>\n",
       "<table border=\"1\" class=\"dataframe\">\n",
       "  <thead>\n",
       "    <tr style=\"text-align: right;\">\n",
       "      <th></th>\n",
       "      <th>isbn</th>\n",
       "      <th>book_title</th>\n",
       "      <th>book_author</th>\n",
       "      <th>year_of_publication</th>\n",
       "      <th>publisher</th>\n",
       "      <th>img_url</th>\n",
       "      <th>language</th>\n",
       "      <th>category</th>\n",
       "      <th>summary</th>\n",
       "      <th>img_path</th>\n",
       "    </tr>\n",
       "  </thead>\n",
       "  <tbody>\n",
       "    <tr>\n",
       "      <th>31052</th>\n",
       "      <td>0061011479</td>\n",
       "      <td>Return with Honor</td>\n",
       "      <td>Captain Scott O'Grady</td>\n",
       "      <td>1996.0</td>\n",
       "      <td>HarperTorch</td>\n",
       "      <td>http://images.amazon.com/images/P/0061011479.0...</td>\n",
       "      <td>en</td>\n",
       "      <td>biography</td>\n",
       "      <td>An American pilot who was shot down over Bosni...</td>\n",
       "      <td>images/0061011479.01.THUMBZZZ.jpg</td>\n",
       "    </tr>\n",
       "  </tbody>\n",
       "</table>\n",
       "</div>"
      ],
      "text/plain": [
       "             isbn         book_title            book_author  \\\n",
       "31052  0061011479  Return with Honor  Captain Scott O'Grady   \n",
       "\n",
       "       year_of_publication    publisher  \\\n",
       "31052               1996.0  HarperTorch   \n",
       "\n",
       "                                                 img_url language   category  \\\n",
       "31052  http://images.amazon.com/images/P/0061011479.0...       en  biography   \n",
       "\n",
       "                                                 summary  \\\n",
       "31052  An American pilot who was shot down over Bosni...   \n",
       "\n",
       "                                img_path  \n",
       "31052  images/0061011479.01.THUMBZZZ.jpg  "
      ]
     },
     "execution_count": 20,
     "metadata": {},
     "output_type": "execute_result"
    }
   ],
   "source": [
    "books.sample(1)"
   ]
  },
  {
   "cell_type": "code",
   "execution_count": 21,
   "metadata": {},
   "outputs": [
    {
     "data": {
      "text/plain": [
       "(149570, 10)"
      ]
     },
     "execution_count": 21,
     "metadata": {},
     "output_type": "execute_result"
    }
   ],
   "source": [
    "books.shape"
   ]
  },
  {
   "cell_type": "code",
   "execution_count": 17,
   "metadata": {},
   "outputs": [
    {
     "data": {
      "text/plain": [
       "isbn                       0\n",
       "book_title                 0\n",
       "book_author                0\n",
       "year_of_publication        0\n",
       "publisher                  0\n",
       "img_url                    0\n",
       "language               67227\n",
       "category               68851\n",
       "summary                67227\n",
       "img_path                   0\n",
       "category_high          68851\n",
       "dtype: int64"
      ]
     },
     "execution_count": 17,
     "metadata": {},
     "output_type": "execute_result"
    }
   ],
   "source": [
    "books.isna().sum()"
   ]
  },
  {
   "cell_type": "markdown",
   "metadata": {},
   "source": [
    "##### category, language 결측치 처리"
   ]
  },
  {
   "cell_type": "markdown",
   "metadata": {},
   "source": [
    "- Category, language에 결측치가 너무 많다\n",
    "- 작가와 연동해서 결측치를 처리해보자\n",
    "- ex) 작가는 비슷한 장르(언어)의 책을 쓸 가능성이 높으니까, 그 작가가 가장 많이 쓴 장르(언어)로 대치하자"
   ]
  },
  {
   "cell_type": "code",
   "execution_count": 22,
   "metadata": {},
   "outputs": [
    {
     "data": {
      "text/plain": [
       "['0671870432', '0887841740', '1552041778', '1558746218', '1567407781']"
      ]
     },
     "execution_count": 22,
     "metadata": {},
     "output_type": "execute_result"
    }
   ],
   "source": [
    "na_ct_isbn = list(books[books.category.isna()]['isbn'])\n",
    "na_ct_isbn[:5]"
   ]
  },
  {
   "cell_type": "code",
   "execution_count": 23,
   "metadata": {},
   "outputs": [
    {
     "data": {
      "text/plain": [
       "(68851, 68851)"
      ]
     },
     "execution_count": 23,
     "metadata": {},
     "output_type": "execute_result"
    }
   ],
   "source": [
    "len(set(na_ct_isbn)), len(na_ct_isbn)"
   ]
  },
  {
   "cell_type": "code",
   "execution_count": 24,
   "metadata": {},
   "outputs": [
    {
     "data": {
      "text/plain": [
       "'en'"
      ]
     },
     "execution_count": 24,
     "metadata": {},
     "output_type": "execute_result"
    }
   ],
   "source": [
    "tmp = books.loc[books['isbn']=='0671870432']['book_author'].values[0]\n",
    "books.loc[books['book_author'] == tmp].language.value_counts().index[0]"
   ]
  },
  {
   "cell_type": "code",
   "execution_count": 25,
   "metadata": {},
   "outputs": [
    {
     "name": "stderr",
     "output_type": "stream",
     "text": [
      "100%|██████████| 68851/68851 [48:13<00:00, 23.80it/s]\n"
     ]
    }
   ],
   "source": [
    "for isbn in tqdm.tqdm(na_ct_isbn):\n",
    "    author = books.loc[books['isbn']==isbn]['book_author'].values[0]\n",
    "    try:\n",
    "        modify_category = books.loc[books['book_author'] == author].category.value_counts().index[0]\n",
    "        books.loc[books['isbn'] == isbn, 'category'] = modify_category\n",
    "    except:\n",
    "        pass\n",
    "\n",
    "    try:\n",
    "        modify_language = books.loc[books['book_author'] == author].language.value_counts().index[0]\n",
    "        books.loc[books['isbn'] == isbn, 'language'] = modify_language\n",
    "    except:\n",
    "        pass\n",
    "    "
   ]
  },
  {
   "cell_type": "code",
   "execution_count": 26,
   "metadata": {},
   "outputs": [
    {
     "data": {
      "text/plain": [
       "isbn                       0\n",
       "book_title                 0\n",
       "book_author                0\n",
       "year_of_publication        0\n",
       "publisher                  0\n",
       "img_url                    0\n",
       "language               26198\n",
       "category               27203\n",
       "summary                67227\n",
       "img_path                   0\n",
       "dtype: int64"
      ]
     },
     "execution_count": 26,
     "metadata": {},
     "output_type": "execute_result"
    }
   ],
   "source": [
    "books.isna().sum()"
   ]
  },
  {
   "cell_type": "code",
   "execution_count": 30,
   "metadata": {},
   "outputs": [
    {
     "data": {
      "text/html": [
       "<div>\n",
       "<style scoped>\n",
       "    .dataframe tbody tr th:only-of-type {\n",
       "        vertical-align: middle;\n",
       "    }\n",
       "\n",
       "    .dataframe tbody tr th {\n",
       "        vertical-align: top;\n",
       "    }\n",
       "\n",
       "    .dataframe thead th {\n",
       "        text-align: right;\n",
       "    }\n",
       "</style>\n",
       "<table border=\"1\" class=\"dataframe\">\n",
       "  <thead>\n",
       "    <tr style=\"text-align: right;\">\n",
       "      <th></th>\n",
       "      <th>isbn</th>\n",
       "      <th>book_title</th>\n",
       "      <th>book_author</th>\n",
       "      <th>year_of_publication</th>\n",
       "      <th>publisher</th>\n",
       "      <th>img_url</th>\n",
       "      <th>language</th>\n",
       "      <th>category</th>\n",
       "      <th>summary</th>\n",
       "      <th>img_path</th>\n",
       "    </tr>\n",
       "  </thead>\n",
       "  <tbody>\n",
       "    <tr>\n",
       "      <th>47826</th>\n",
       "      <td>0373872100</td>\n",
       "      <td>A Love Worth Waiting For</td>\n",
       "      <td>Jillian Hart</td>\n",
       "      <td>2003.0</td>\n",
       "      <td>Harlequin</td>\n",
       "      <td>http://images.amazon.com/images/P/0373872100.0...</td>\n",
       "      <td>en</td>\n",
       "      <td>fiction</td>\n",
       "      <td>A Love Worth Waiting For by Jillian Hart relea...</td>\n",
       "      <td>images/0373872100.01.THUMBZZZ.jpg</td>\n",
       "    </tr>\n",
       "    <tr>\n",
       "      <th>7626</th>\n",
       "      <td>0060989270</td>\n",
       "      <td>Tommy's Tale : A Novel</td>\n",
       "      <td>Alan Cumming</td>\n",
       "      <td>2003.0</td>\n",
       "      <td>Perennial</td>\n",
       "      <td>http://images.amazon.com/images/P/0060989270.0...</td>\n",
       "      <td>en</td>\n",
       "      <td>fiction</td>\n",
       "      <td>Tommy is twenty-nine, lives and loves in Londo...</td>\n",
       "      <td>images/0060989270.01.THUMBZZZ.jpg</td>\n",
       "    </tr>\n",
       "    <tr>\n",
       "      <th>82574</th>\n",
       "      <td>0520206371</td>\n",
       "      <td>Mirror of Modernity: Invented Traditions of Mo...</td>\n",
       "      <td>Stephen Vlastos</td>\n",
       "      <td>1998.0</td>\n",
       "      <td>University of California Press</td>\n",
       "      <td>http://images.amazon.com/images/P/0520206371.0...</td>\n",
       "      <td>en</td>\n",
       "      <td>history</td>\n",
       "      <td>This collection of essays challenges the notio...</td>\n",
       "      <td>images/0520206371.01.THUMBZZZ.jpg</td>\n",
       "    </tr>\n",
       "    <tr>\n",
       "      <th>148084</th>\n",
       "      <td>0912365277</td>\n",
       "      <td>Washington Homes: Buying Selling and Investing...</td>\n",
       "      <td>Jim Stacey</td>\n",
       "      <td>1990.0</td>\n",
       "      <td>Pub Group West</td>\n",
       "      <td>http://images.amazon.com/images/P/0912365277.0...</td>\n",
       "      <td>NaN</td>\n",
       "      <td>NaN</td>\n",
       "      <td>NaN</td>\n",
       "      <td>images/0912365277.01.THUMBZZZ.jpg</td>\n",
       "    </tr>\n",
       "    <tr>\n",
       "      <th>1482</th>\n",
       "      <td>0385315279</td>\n",
       "      <td>The Fiery Cross</td>\n",
       "      <td>Diana Gabaldon</td>\n",
       "      <td>2001.0</td>\n",
       "      <td>Bantam Dell Pub Group</td>\n",
       "      <td>http://images.amazon.com/images/P/0385315279.0...</td>\n",
       "      <td>en</td>\n",
       "      <td>fiction</td>\n",
       "      <td>In 1771, Scotman Jamie Fraser and his twentiet...</td>\n",
       "      <td>images/0385315279.01.THUMBZZZ.jpg</td>\n",
       "    </tr>\n",
       "  </tbody>\n",
       "</table>\n",
       "</div>"
      ],
      "text/plain": [
       "              isbn                                         book_title  \\\n",
       "47826   0373872100                           A Love Worth Waiting For   \n",
       "7626    0060989270                             Tommy's Tale : A Novel   \n",
       "82574   0520206371  Mirror of Modernity: Invented Traditions of Mo...   \n",
       "148084  0912365277  Washington Homes: Buying Selling and Investing...   \n",
       "1482    0385315279                                    The Fiery Cross   \n",
       "\n",
       "            book_author  year_of_publication                       publisher  \\\n",
       "47826      Jillian Hart               2003.0                       Harlequin   \n",
       "7626       Alan Cumming               2003.0                       Perennial   \n",
       "82574   Stephen Vlastos               1998.0  University of California Press   \n",
       "148084       Jim Stacey               1990.0                  Pub Group West   \n",
       "1482     Diana Gabaldon               2001.0           Bantam Dell Pub Group   \n",
       "\n",
       "                                                  img_url language category  \\\n",
       "47826   http://images.amazon.com/images/P/0373872100.0...       en  fiction   \n",
       "7626    http://images.amazon.com/images/P/0060989270.0...       en  fiction   \n",
       "82574   http://images.amazon.com/images/P/0520206371.0...       en  history   \n",
       "148084  http://images.amazon.com/images/P/0912365277.0...      NaN      NaN   \n",
       "1482    http://images.amazon.com/images/P/0385315279.0...       en  fiction   \n",
       "\n",
       "                                                  summary  \\\n",
       "47826   A Love Worth Waiting For by Jillian Hart relea...   \n",
       "7626    Tommy is twenty-nine, lives and loves in Londo...   \n",
       "82574   This collection of essays challenges the notio...   \n",
       "148084                                                NaN   \n",
       "1482    In 1771, Scotman Jamie Fraser and his twentiet...   \n",
       "\n",
       "                                 img_path  \n",
       "47826   images/0373872100.01.THUMBZZZ.jpg  \n",
       "7626    images/0060989270.01.THUMBZZZ.jpg  \n",
       "82574   images/0520206371.01.THUMBZZZ.jpg  \n",
       "148084  images/0912365277.01.THUMBZZZ.jpg  \n",
       "1482    images/0385315279.01.THUMBZZZ.jpg  "
      ]
     },
     "execution_count": 30,
     "metadata": {},
     "output_type": "execute_result"
    }
   ],
   "source": [
    "books.sample(5)"
   ]
  },
  {
   "cell_type": "markdown",
   "metadata": {},
   "source": [
    "- 이럼에도 처리 안 된 데이터는, 작가의 책중에 정상적인 language와 category가 없는 경우임 (아래처럼)"
   ]
  },
  {
   "cell_type": "code",
   "execution_count": 28,
   "metadata": {},
   "outputs": [
    {
     "data": {
      "text/html": [
       "<div>\n",
       "<style scoped>\n",
       "    .dataframe tbody tr th:only-of-type {\n",
       "        vertical-align: middle;\n",
       "    }\n",
       "\n",
       "    .dataframe tbody tr th {\n",
       "        vertical-align: top;\n",
       "    }\n",
       "\n",
       "    .dataframe thead th {\n",
       "        text-align: right;\n",
       "    }\n",
       "</style>\n",
       "<table border=\"1\" class=\"dataframe\">\n",
       "  <thead>\n",
       "    <tr style=\"text-align: right;\">\n",
       "      <th></th>\n",
       "      <th>isbn</th>\n",
       "      <th>book_title</th>\n",
       "      <th>book_author</th>\n",
       "      <th>year_of_publication</th>\n",
       "      <th>publisher</th>\n",
       "      <th>img_url</th>\n",
       "      <th>language</th>\n",
       "      <th>category</th>\n",
       "      <th>summary</th>\n",
       "      <th>img_path</th>\n",
       "    </tr>\n",
       "  </thead>\n",
       "  <tbody>\n",
       "    <tr>\n",
       "      <th>139273</th>\n",
       "      <td>3257216920</td>\n",
       "      <td>Kuck Kuck. Noch mehr Kille Kille Geschichten.</td>\n",
       "      <td>Ernst W. Heine</td>\n",
       "      <td>1989.0</td>\n",
       "      <td>Diogenes Verlag</td>\n",
       "      <td>http://images.amazon.com/images/P/3257216920.0...</td>\n",
       "      <td>NaN</td>\n",
       "      <td>NaN</td>\n",
       "      <td>NaN</td>\n",
       "      <td>images/3257216920.01.THUMBZZZ.jpg</td>\n",
       "    </tr>\n",
       "  </tbody>\n",
       "</table>\n",
       "</div>"
      ],
      "text/plain": [
       "              isbn                                     book_title  \\\n",
       "139273  3257216920  Kuck Kuck. Noch mehr Kille Kille Geschichten.   \n",
       "\n",
       "           book_author  year_of_publication        publisher  \\\n",
       "139273  Ernst W. Heine               1989.0  Diogenes Verlag   \n",
       "\n",
       "                                                  img_url language category  \\\n",
       "139273  http://images.amazon.com/images/P/3257216920.0...      NaN      NaN   \n",
       "\n",
       "       summary                           img_path  \n",
       "139273     NaN  images/3257216920.01.THUMBZZZ.jpg  "
      ]
     },
     "execution_count": 28,
     "metadata": {},
     "output_type": "execute_result"
    }
   ],
   "source": [
    "books[books.category.isna()].sample()"
   ]
  },
  {
   "cell_type": "code",
   "execution_count": 29,
   "metadata": {},
   "outputs": [
    {
     "data": {
      "text/html": [
       "<div>\n",
       "<style scoped>\n",
       "    .dataframe tbody tr th:only-of-type {\n",
       "        vertical-align: middle;\n",
       "    }\n",
       "\n",
       "    .dataframe tbody tr th {\n",
       "        vertical-align: top;\n",
       "    }\n",
       "\n",
       "    .dataframe thead th {\n",
       "        text-align: right;\n",
       "    }\n",
       "</style>\n",
       "<table border=\"1\" class=\"dataframe\">\n",
       "  <thead>\n",
       "    <tr style=\"text-align: right;\">\n",
       "      <th></th>\n",
       "      <th>isbn</th>\n",
       "      <th>book_title</th>\n",
       "      <th>book_author</th>\n",
       "      <th>year_of_publication</th>\n",
       "      <th>publisher</th>\n",
       "      <th>img_url</th>\n",
       "      <th>language</th>\n",
       "      <th>category</th>\n",
       "      <th>summary</th>\n",
       "      <th>img_path</th>\n",
       "    </tr>\n",
       "  </thead>\n",
       "  <tbody>\n",
       "    <tr>\n",
       "      <th>1686</th>\n",
       "      <td>3442720001</td>\n",
       "      <td>Das Halsband der Taube.</td>\n",
       "      <td>Ernst W. Heine</td>\n",
       "      <td>1996.0</td>\n",
       "      <td>Goldmann</td>\n",
       "      <td>http://images.amazon.com/images/P/3442720001.0...</td>\n",
       "      <td>NaN</td>\n",
       "      <td>NaN</td>\n",
       "      <td>NaN</td>\n",
       "      <td>images/3442720001.01.THUMBZZZ.jpg</td>\n",
       "    </tr>\n",
       "    <tr>\n",
       "      <th>100888</th>\n",
       "      <td>3442728053</td>\n",
       "      <td>Das Glasauge. Neue Kille Kille Geschichten.</td>\n",
       "      <td>Ernst W. Heine</td>\n",
       "      <td>2001.0</td>\n",
       "      <td>Goldmann</td>\n",
       "      <td>http://images.amazon.com/images/P/3442728053.0...</td>\n",
       "      <td>NaN</td>\n",
       "      <td>NaN</td>\n",
       "      <td>NaN</td>\n",
       "      <td>images/3442728053.01.THUMBZZZ.jpg</td>\n",
       "    </tr>\n",
       "    <tr>\n",
       "      <th>139273</th>\n",
       "      <td>3257216920</td>\n",
       "      <td>Kuck Kuck. Noch mehr Kille Kille Geschichten.</td>\n",
       "      <td>Ernst W. Heine</td>\n",
       "      <td>1989.0</td>\n",
       "      <td>Diogenes Verlag</td>\n",
       "      <td>http://images.amazon.com/images/P/3257216920.0...</td>\n",
       "      <td>NaN</td>\n",
       "      <td>NaN</td>\n",
       "      <td>NaN</td>\n",
       "      <td>images/3257216920.01.THUMBZZZ.jpg</td>\n",
       "    </tr>\n",
       "  </tbody>\n",
       "</table>\n",
       "</div>"
      ],
      "text/plain": [
       "              isbn                                     book_title  \\\n",
       "1686    3442720001                        Das Halsband der Taube.   \n",
       "100888  3442728053    Das Glasauge. Neue Kille Kille Geschichten.   \n",
       "139273  3257216920  Kuck Kuck. Noch mehr Kille Kille Geschichten.   \n",
       "\n",
       "           book_author  year_of_publication        publisher  \\\n",
       "1686    Ernst W. Heine               1996.0         Goldmann   \n",
       "100888  Ernst W. Heine               2001.0         Goldmann   \n",
       "139273  Ernst W. Heine               1989.0  Diogenes Verlag   \n",
       "\n",
       "                                                  img_url language category  \\\n",
       "1686    http://images.amazon.com/images/P/3442720001.0...      NaN      NaN   \n",
       "100888  http://images.amazon.com/images/P/3442728053.0...      NaN      NaN   \n",
       "139273  http://images.amazon.com/images/P/3257216920.0...      NaN      NaN   \n",
       "\n",
       "       summary                           img_path  \n",
       "1686       NaN  images/3442720001.01.THUMBZZZ.jpg  \n",
       "100888     NaN  images/3442728053.01.THUMBZZZ.jpg  \n",
       "139273     NaN  images/3257216920.01.THUMBZZZ.jpg  "
      ]
     },
     "execution_count": 29,
     "metadata": {},
     "output_type": "execute_result"
    }
   ],
   "source": [
    "books[books.book_author == 'Ernst W. Heine']"
   ]
  },
  {
   "cell_type": "code",
   "execution_count": 33,
   "metadata": {},
   "outputs": [
    {
     "data": {
      "text/html": [
       "<div>\n",
       "<style scoped>\n",
       "    .dataframe tbody tr th:only-of-type {\n",
       "        vertical-align: middle;\n",
       "    }\n",
       "\n",
       "    .dataframe tbody tr th {\n",
       "        vertical-align: top;\n",
       "    }\n",
       "\n",
       "    .dataframe thead th {\n",
       "        text-align: right;\n",
       "    }\n",
       "</style>\n",
       "<table border=\"1\" class=\"dataframe\">\n",
       "  <thead>\n",
       "    <tr style=\"text-align: right;\">\n",
       "      <th></th>\n",
       "      <th>isbn</th>\n",
       "      <th>book_title</th>\n",
       "      <th>book_author</th>\n",
       "      <th>year_of_publication</th>\n",
       "      <th>publisher</th>\n",
       "      <th>img_url</th>\n",
       "      <th>language</th>\n",
       "      <th>category</th>\n",
       "      <th>summary</th>\n",
       "      <th>img_path</th>\n",
       "    </tr>\n",
       "  </thead>\n",
       "  <tbody>\n",
       "    <tr>\n",
       "      <th>138</th>\n",
       "      <td>2070567842</td>\n",
       "      <td>Folio Junior: L'histoire De Monsieur Sommer</td>\n",
       "      <td>Su&gt;skind-Sempe</td>\n",
       "      <td>1994.0</td>\n",
       "      <td>Gallimard</td>\n",
       "      <td>http://images.amazon.com/images/P/2070567842.0...</td>\n",
       "      <td>fr</td>\n",
       "      <td>NaN</td>\n",
       "      <td>Un petit garçon se pose énormément de question...</td>\n",
       "      <td>images/2070567842.01.THUMBZZZ.jpg</td>\n",
       "    </tr>\n",
       "  </tbody>\n",
       "</table>\n",
       "</div>"
      ],
      "text/plain": [
       "           isbn                                   book_title     book_author  \\\n",
       "138  2070567842  Folio Junior: L'histoire De Monsieur Sommer  Su>skind-Sempe   \n",
       "\n",
       "     year_of_publication  publisher  \\\n",
       "138               1994.0  Gallimard   \n",
       "\n",
       "                                               img_url language category  \\\n",
       "138  http://images.amazon.com/images/P/2070567842.0...       fr      NaN   \n",
       "\n",
       "                                               summary  \\\n",
       "138  Un petit garçon se pose énormément de question...   \n",
       "\n",
       "                              img_path  \n",
       "138  images/2070567842.01.THUMBZZZ.jpg  "
      ]
     },
     "execution_count": 33,
     "metadata": {},
     "output_type": "execute_result"
    }
   ],
   "source": [
    "books[books.book_author == 'Su>skind-Sempe']"
   ]
  },
  {
   "cell_type": "markdown",
   "metadata": {},
   "source": [
    "- 결측치는 string 데이터로 nan으로 저장해주자"
   ]
  },
  {
   "cell_type": "code",
   "execution_count": 36,
   "metadata": {},
   "outputs": [],
   "source": [
    "books['language'] = books['language'].apply(lambda x : str(x))\n",
    "books['category'] = books['category'].apply(lambda x : str(x))\n",
    "books['summary'] = books['summary'].apply(lambda x : str(x))"
   ]
  },
  {
   "cell_type": "code",
   "execution_count": 37,
   "metadata": {},
   "outputs": [
    {
     "data": {
      "text/plain": [
       "isbn                   0\n",
       "book_title             0\n",
       "book_author            0\n",
       "year_of_publication    0\n",
       "publisher              0\n",
       "img_url                0\n",
       "language               0\n",
       "category               0\n",
       "summary                0\n",
       "img_path               0\n",
       "dtype: int64"
      ]
     },
     "execution_count": 37,
     "metadata": {},
     "output_type": "execute_result"
    }
   ],
   "source": [
    "books.isna().sum()"
   ]
  },
  {
   "cell_type": "markdown",
   "metadata": {},
   "source": [
    "##### 데이터 저장"
   ]
  },
  {
   "cell_type": "code",
   "execution_count": 38,
   "metadata": {},
   "outputs": [],
   "source": [
    "books.to_csv('./data/books_sj.csv', index=False)"
   ]
  },
  {
   "cell_type": "markdown",
   "metadata": {},
   "source": [
    "#### summary\n",
    "- summary는 text 데이터 쓰지 않는이상 의미 없다고 생각\n",
    "- 만약 text 데이터 쓰려면 title 값을 그대로 넣는 것도 생각\n",
    "    - 그럼 title이 두개라서 의미 없는거 아닌가? => 아닌듯. 왜냐하면 src/data/text_data.py 에서, title 값은 사용 안하고 summary 값만 사용하는거 확인"
   ]
  },
  {
   "cell_type": "code",
   "execution_count": 32,
   "metadata": {},
   "outputs": [
    {
     "data": {
      "text/html": [
       "<div>\n",
       "<style scoped>\n",
       "    .dataframe tbody tr th:only-of-type {\n",
       "        vertical-align: middle;\n",
       "    }\n",
       "\n",
       "    .dataframe tbody tr th {\n",
       "        vertical-align: top;\n",
       "    }\n",
       "\n",
       "    .dataframe thead th {\n",
       "        text-align: right;\n",
       "    }\n",
       "</style>\n",
       "<table border=\"1\" class=\"dataframe\">\n",
       "  <thead>\n",
       "    <tr style=\"text-align: right;\">\n",
       "      <th></th>\n",
       "      <th>isbn</th>\n",
       "      <th>book_title</th>\n",
       "      <th>book_author</th>\n",
       "      <th>year_of_publication</th>\n",
       "      <th>publisher</th>\n",
       "      <th>img_url</th>\n",
       "      <th>language</th>\n",
       "      <th>category</th>\n",
       "      <th>summary</th>\n",
       "      <th>img_path</th>\n",
       "    </tr>\n",
       "  </thead>\n",
       "  <tbody>\n",
       "    <tr>\n",
       "      <th>138</th>\n",
       "      <td>2070567842</td>\n",
       "      <td>Folio Junior: L'histoire De Monsieur Sommer</td>\n",
       "      <td>Su&gt;skind-Sempe</td>\n",
       "      <td>1994.0</td>\n",
       "      <td>Gallimard</td>\n",
       "      <td>http://images.amazon.com/images/P/2070567842.0...</td>\n",
       "      <td>fr</td>\n",
       "      <td>NaN</td>\n",
       "      <td>Un petit garçon se pose énormément de question...</td>\n",
       "      <td>images/2070567842.01.THUMBZZZ.jpg</td>\n",
       "    </tr>\n",
       "    <tr>\n",
       "      <th>978</th>\n",
       "      <td>2266033689</td>\n",
       "      <td>Le Diable Au Corps</td>\n",
       "      <td>Raymond Radiguet</td>\n",
       "      <td>1994.0</td>\n",
       "      <td>Pocket</td>\n",
       "      <td>http://images.amazon.com/images/P/2266033689.0...</td>\n",
       "      <td>fr</td>\n",
       "      <td>NaN</td>\n",
       "      <td>NaN</td>\n",
       "      <td>images/2266033689.01.THUMBZZZ.jpg</td>\n",
       "    </tr>\n",
       "    <tr>\n",
       "      <th>1197</th>\n",
       "      <td>349913358X</td>\n",
       "      <td>Das Schlampenbuch. ErzÃ?Â¤hlungen. ( neue frau).</td>\n",
       "      <td>Milena Moser</td>\n",
       "      <td>1993.0</td>\n",
       "      <td>Rowohlt Tb.</td>\n",
       "      <td>http://images.amazon.com/images/P/349913358X.0...</td>\n",
       "      <td>de</td>\n",
       "      <td>NaN</td>\n",
       "      <td>Grotesk bissige Erzählungen über Frauen, die k...</td>\n",
       "      <td>images/349913358X.01.THUMBZZZ.jpg</td>\n",
       "    </tr>\n",
       "    <tr>\n",
       "      <th>1230</th>\n",
       "      <td>0449131548</td>\n",
       "      <td>All the Days of My Life</td>\n",
       "      <td>Hilary Bailey</td>\n",
       "      <td>1986.0</td>\n",
       "      <td>Fawcett Books</td>\n",
       "      <td>http://images.amazon.com/images/P/0449131548.0...</td>\n",
       "      <td>en</td>\n",
       "      <td>NaN</td>\n",
       "      <td>NaN</td>\n",
       "      <td>images/0449131548.01.THUMBZZZ.jpg</td>\n",
       "    </tr>\n",
       "    <tr>\n",
       "      <th>1431</th>\n",
       "      <td>3492265014</td>\n",
       "      <td>Elfenfeuer.</td>\n",
       "      <td>Monika Felten</td>\n",
       "      <td>2003.0</td>\n",
       "      <td>Piper</td>\n",
       "      <td>http://images.amazon.com/images/P/3492265014.0...</td>\n",
       "      <td>de</td>\n",
       "      <td>NaN</td>\n",
       "      <td>Deutsche Autorin, geb. 1965.</td>\n",
       "      <td>images/3492265014.01.THUMBZZZ.jpg</td>\n",
       "    </tr>\n",
       "    <tr>\n",
       "      <th>...</th>\n",
       "      <td>...</td>\n",
       "      <td>...</td>\n",
       "      <td>...</td>\n",
       "      <td>...</td>\n",
       "      <td>...</td>\n",
       "      <td>...</td>\n",
       "      <td>...</td>\n",
       "      <td>...</td>\n",
       "      <td>...</td>\n",
       "      <td>...</td>\n",
       "    </tr>\n",
       "    <tr>\n",
       "      <th>149141</th>\n",
       "      <td>3805206186</td>\n",
       "      <td>Die AffÃ?Â¤re Semmeling. Der Roman zum neuen Z...</td>\n",
       "      <td>Dieter Wedel</td>\n",
       "      <td>2001.0</td>\n",
       "      <td>Wunderlich im Rowohlt</td>\n",
       "      <td>http://images.amazon.com/images/P/3805206186.0...</td>\n",
       "      <td>de</td>\n",
       "      <td>NaN</td>\n",
       "      <td>NaN</td>\n",
       "      <td>images/3805206186.01.THUMBZZZ.jpg</td>\n",
       "    </tr>\n",
       "    <tr>\n",
       "      <th>149251</th>\n",
       "      <td>3770401654</td>\n",
       "      <td>Lucky Luke, Bd.54, Die Daltons und der Psycho-Doc</td>\n",
       "      <td>Morris</td>\n",
       "      <td>1989.0</td>\n",
       "      <td>DUMONT Literatur und Kunst Verlag</td>\n",
       "      <td>http://images.amazon.com/images/P/3770401654.0...</td>\n",
       "      <td>de</td>\n",
       "      <td>NaN</td>\n",
       "      <td>Mustercowboy Lucky Luke erlebt, wie Psycho-Doc...</td>\n",
       "      <td>images/3770401654.01.THUMBZZZ.jpg</td>\n",
       "    </tr>\n",
       "    <tr>\n",
       "      <th>149252</th>\n",
       "      <td>3770401697</td>\n",
       "      <td>Lucky Luke, Bd.58, Die Geister-Ranch und ander...</td>\n",
       "      <td>Michel Janvier</td>\n",
       "      <td>1989.0</td>\n",
       "      <td>DUMONT Literatur und Kunst Verlag</td>\n",
       "      <td>http://images.amazon.com/images/P/3770401697.0...</td>\n",
       "      <td>de</td>\n",
       "      <td>NaN</td>\n",
       "      <td>Enth. noch: Die Hellseherin, Die Statue und Di...</td>\n",
       "      <td>images/3770401697.01.THUMBZZZ.jpg</td>\n",
       "    </tr>\n",
       "    <tr>\n",
       "      <th>149329</th>\n",
       "      <td>3426192543</td>\n",
       "      <td>Im FrÃ?Â¼hling singt zum letztenmal die Lerche.</td>\n",
       "      <td>Johannes Mario Simmel</td>\n",
       "      <td>1990.0</td>\n",
       "      <td>Droemersche Verlagsanstalt Th. Knaur Nachf., G...</td>\n",
       "      <td>http://images.amazon.com/images/P/3426192543.0...</td>\n",
       "      <td>de</td>\n",
       "      <td>NaN</td>\n",
       "      <td>Eine Gruppe von Idealisten nimmt den Kampf geg...</td>\n",
       "      <td>images/3426192543.01.THUMBZZZ.jpg</td>\n",
       "    </tr>\n",
       "    <tr>\n",
       "      <th>149529</th>\n",
       "      <td>0812531558</td>\n",
       "      <td>Tweedlioop</td>\n",
       "      <td>Stanley Schmidt</td>\n",
       "      <td>1988.0</td>\n",
       "      <td>Tor Books</td>\n",
       "      <td>http://images.amazon.com/images/P/0812531558.0...</td>\n",
       "      <td>en</td>\n",
       "      <td>NaN</td>\n",
       "      <td>But the government wanted Tweedlioop the alien...</td>\n",
       "      <td>images/0812531558.01.THUMBZZZ.jpg</td>\n",
       "    </tr>\n",
       "  </tbody>\n",
       "</table>\n",
       "<p>1005 rows × 10 columns</p>\n",
       "</div>"
      ],
      "text/plain": [
       "              isbn                                         book_title  \\\n",
       "138     2070567842        Folio Junior: L'histoire De Monsieur Sommer   \n",
       "978     2266033689                                 Le Diable Au Corps   \n",
       "1197    349913358X   Das Schlampenbuch. ErzÃ?Â¤hlungen. ( neue frau).   \n",
       "1230    0449131548                            All the Days of My Life   \n",
       "1431    3492265014                                        Elfenfeuer.   \n",
       "...            ...                                                ...   \n",
       "149141  3805206186  Die AffÃ?Â¤re Semmeling. Der Roman zum neuen Z...   \n",
       "149251  3770401654  Lucky Luke, Bd.54, Die Daltons und der Psycho-Doc   \n",
       "149252  3770401697  Lucky Luke, Bd.58, Die Geister-Ranch und ander...   \n",
       "149329  3426192543    Im FrÃ?Â¼hling singt zum letztenmal die Lerche.   \n",
       "149529  0812531558                                         Tweedlioop   \n",
       "\n",
       "                  book_author  year_of_publication  \\\n",
       "138            Su>skind-Sempe               1994.0   \n",
       "978          Raymond Radiguet               1994.0   \n",
       "1197             Milena Moser               1993.0   \n",
       "1230            Hilary Bailey               1986.0   \n",
       "1431            Monika Felten               2003.0   \n",
       "...                       ...                  ...   \n",
       "149141           Dieter Wedel               2001.0   \n",
       "149251                 Morris               1989.0   \n",
       "149252         Michel Janvier               1989.0   \n",
       "149329  Johannes Mario Simmel               1990.0   \n",
       "149529        Stanley Schmidt               1988.0   \n",
       "\n",
       "                                                publisher  \\\n",
       "138                                             Gallimard   \n",
       "978                                                Pocket   \n",
       "1197                                          Rowohlt Tb.   \n",
       "1230                                        Fawcett Books   \n",
       "1431                                                Piper   \n",
       "...                                                   ...   \n",
       "149141                              Wunderlich im Rowohlt   \n",
       "149251                  DUMONT Literatur und Kunst Verlag   \n",
       "149252                  DUMONT Literatur und Kunst Verlag   \n",
       "149329  Droemersche Verlagsanstalt Th. Knaur Nachf., G...   \n",
       "149529                                          Tor Books   \n",
       "\n",
       "                                                  img_url language category  \\\n",
       "138     http://images.amazon.com/images/P/2070567842.0...       fr      NaN   \n",
       "978     http://images.amazon.com/images/P/2266033689.0...       fr      NaN   \n",
       "1197    http://images.amazon.com/images/P/349913358X.0...       de      NaN   \n",
       "1230    http://images.amazon.com/images/P/0449131548.0...       en      NaN   \n",
       "1431    http://images.amazon.com/images/P/3492265014.0...       de      NaN   \n",
       "...                                                   ...      ...      ...   \n",
       "149141  http://images.amazon.com/images/P/3805206186.0...       de      NaN   \n",
       "149251  http://images.amazon.com/images/P/3770401654.0...       de      NaN   \n",
       "149252  http://images.amazon.com/images/P/3770401697.0...       de      NaN   \n",
       "149329  http://images.amazon.com/images/P/3426192543.0...       de      NaN   \n",
       "149529  http://images.amazon.com/images/P/0812531558.0...       en      NaN   \n",
       "\n",
       "                                                  summary  \\\n",
       "138     Un petit garçon se pose énormément de question...   \n",
       "978                                                   NaN   \n",
       "1197    Grotesk bissige Erzählungen über Frauen, die k...   \n",
       "1230                                                  NaN   \n",
       "1431                         Deutsche Autorin, geb. 1965.   \n",
       "...                                                   ...   \n",
       "149141                                                NaN   \n",
       "149251  Mustercowboy Lucky Luke erlebt, wie Psycho-Doc...   \n",
       "149252  Enth. noch: Die Hellseherin, Die Statue und Di...   \n",
       "149329  Eine Gruppe von Idealisten nimmt den Kampf geg...   \n",
       "149529  But the government wanted Tweedlioop the alien...   \n",
       "\n",
       "                                 img_path  \n",
       "138     images/2070567842.01.THUMBZZZ.jpg  \n",
       "978     images/2266033689.01.THUMBZZZ.jpg  \n",
       "1197    images/349913358X.01.THUMBZZZ.jpg  \n",
       "1230    images/0449131548.01.THUMBZZZ.jpg  \n",
       "1431    images/3492265014.01.THUMBZZZ.jpg  \n",
       "...                                   ...  \n",
       "149141  images/3805206186.01.THUMBZZZ.jpg  \n",
       "149251  images/3770401654.01.THUMBZZZ.jpg  \n",
       "149252  images/3770401697.01.THUMBZZZ.jpg  \n",
       "149329  images/3426192543.01.THUMBZZZ.jpg  \n",
       "149529  images/0812531558.01.THUMBZZZ.jpg  \n",
       "\n",
       "[1005 rows x 10 columns]"
      ]
     },
     "execution_count": 32,
     "metadata": {},
     "output_type": "execute_result"
    }
   ],
   "source": [
    "books[books.category.isna() & books.language.notnull()]"
   ]
  },
  {
   "cell_type": "markdown",
   "metadata": {},
   "source": [
    "## 주의!\n",
    "- 이 아래부터는 전처리 전, 어떤 변수를 중점으로 보면 좋을지에 대한 테스트 코드이기 때문에, 여기부터는 코드를 돌리시지 마시고 그냥 눈으로만 보시면 됩니다"
   ]
  },
  {
   "cell_type": "markdown",
   "metadata": {},
   "source": [
    "### location만 처리했던 train과 test를 이용하여 시각화 및 데이터 확인"
   ]
  },
  {
   "cell_type": "code",
   "execution_count": 2,
   "metadata": {},
   "outputs": [],
   "source": [
    "train_df = pd.read_csv('train_location.csv')\n",
    "test_df = pd.read_csv('test_location.csv')"
   ]
  },
  {
   "cell_type": "markdown",
   "metadata": {},
   "source": [
    "- 원래 southkorea 라는 country는 검출 해낼 수 없었지만, 주소를 잘못 적은 경우 뒤에서 첫 번째를 나라로 할 수 있게끔 처리하니 확인 가능"
   ]
  },
  {
   "cell_type": "code",
   "execution_count": 45,
   "metadata": {},
   "outputs": [
    {
     "data": {
      "text/html": [
       "<div>\n",
       "<style scoped>\n",
       "    .dataframe tbody tr th:only-of-type {\n",
       "        vertical-align: middle;\n",
       "    }\n",
       "\n",
       "    .dataframe tbody tr th {\n",
       "        vertical-align: top;\n",
       "    }\n",
       "\n",
       "    .dataframe thead th {\n",
       "        text-align: right;\n",
       "    }\n",
       "</style>\n",
       "<table border=\"1\" class=\"dataframe\">\n",
       "  <thead>\n",
       "    <tr style=\"text-align: right;\">\n",
       "      <th></th>\n",
       "      <th>user_id</th>\n",
       "      <th>isbn</th>\n",
       "      <th>rating</th>\n",
       "      <th>age</th>\n",
       "      <th>location_city</th>\n",
       "      <th>location_state</th>\n",
       "      <th>location_country</th>\n",
       "      <th>category</th>\n",
       "      <th>publisher</th>\n",
       "      <th>language</th>\n",
       "      <th>book_author</th>\n",
       "    </tr>\n",
       "  </thead>\n",
       "  <tbody>\n",
       "    <tr>\n",
       "      <th>4751</th>\n",
       "      <td>24746</td>\n",
       "      <td>0316666343</td>\n",
       "      <td>7</td>\n",
       "      <td>NaN</td>\n",
       "      <td>seoul</td>\n",
       "      <td>seoul</td>\n",
       "      <td>southkorea</td>\n",
       "      <td>NaN</td>\n",
       "      <td>Little, Brown</td>\n",
       "      <td>NaN</td>\n",
       "      <td>Alice Sebold</td>\n",
       "    </tr>\n",
       "    <tr>\n",
       "      <th>14298</th>\n",
       "      <td>121184</td>\n",
       "      <td>0312995423</td>\n",
       "      <td>9</td>\n",
       "      <td>NaN</td>\n",
       "      <td>apo</td>\n",
       "      <td>seoul</td>\n",
       "      <td>southkorea</td>\n",
       "      <td>NaN</td>\n",
       "      <td>St. Martin's Press</td>\n",
       "      <td>NaN</td>\n",
       "      <td>Dan Brown</td>\n",
       "    </tr>\n",
       "    <tr>\n",
       "      <th>18841</th>\n",
       "      <td>129655</td>\n",
       "      <td>0060934417</td>\n",
       "      <td>8</td>\n",
       "      <td>26.0</td>\n",
       "      <td>seoul</td>\n",
       "      <td>seoul</td>\n",
       "      <td>southkorea</td>\n",
       "      <td>NaN</td>\n",
       "      <td>Perennial</td>\n",
       "      <td>NaN</td>\n",
       "      <td>Ann Patchett</td>\n",
       "    </tr>\n",
       "    <tr>\n",
       "      <th>29109</th>\n",
       "      <td>224829</td>\n",
       "      <td>0446606812</td>\n",
       "      <td>5</td>\n",
       "      <td>NaN</td>\n",
       "      <td>seoul</td>\n",
       "      <td>seoul</td>\n",
       "      <td>southkorea</td>\n",
       "      <td>['Fiction']</td>\n",
       "      <td>Warner Vision</td>\n",
       "      <td>en</td>\n",
       "      <td>Nicholas Sparks</td>\n",
       "    </tr>\n",
       "    <tr>\n",
       "      <th>70253</th>\n",
       "      <td>98236</td>\n",
       "      <td>0553573861</td>\n",
       "      <td>8</td>\n",
       "      <td>NaN</td>\n",
       "      <td>seoul</td>\n",
       "      <td>seoul</td>\n",
       "      <td>southkorea</td>\n",
       "      <td>['Fiction']</td>\n",
       "      <td>Bantam</td>\n",
       "      <td>en</td>\n",
       "      <td>Neal Stephenson</td>\n",
       "    </tr>\n",
       "  </tbody>\n",
       "</table>\n",
       "</div>"
      ],
      "text/plain": [
       "       user_id        isbn  rating   age location_city location_state  \\\n",
       "4751     24746  0316666343       7   NaN         seoul          seoul   \n",
       "14298   121184  0312995423       9   NaN           apo          seoul   \n",
       "18841   129655  0060934417       8  26.0         seoul          seoul   \n",
       "29109   224829  0446606812       5   NaN         seoul          seoul   \n",
       "70253    98236  0553573861       8   NaN         seoul          seoul   \n",
       "\n",
       "      location_country     category           publisher language  \\\n",
       "4751        southkorea          NaN       Little, Brown      NaN   \n",
       "14298       southkorea          NaN  St. Martin's Press      NaN   \n",
       "18841       southkorea          NaN           Perennial      NaN   \n",
       "29109       southkorea  ['Fiction']       Warner Vision       en   \n",
       "70253       southkorea  ['Fiction']              Bantam       en   \n",
       "\n",
       "           book_author  \n",
       "4751      Alice Sebold  \n",
       "14298        Dan Brown  \n",
       "18841     Ann Patchett  \n",
       "29109  Nicholas Sparks  \n",
       "70253  Neal Stephenson  "
      ]
     },
     "execution_count": 45,
     "metadata": {},
     "output_type": "execute_result"
    }
   ],
   "source": [
    "train_df[train_df['location_state'] == 'seoul'].head()"
   ]
  },
  {
   "cell_type": "code",
   "execution_count": 52,
   "metadata": {},
   "outputs": [
    {
     "data": {
      "text/plain": [
       "user_id                  0\n",
       "isbn                     0\n",
       "rating                   0\n",
       "age                  92662\n",
       "location_city         7000\n",
       "location_state        7003\n",
       "location_country      5951\n",
       "category            121221\n",
       "publisher                0\n",
       "language            119084\n",
       "book_author              0\n",
       "dtype: int64"
      ]
     },
     "execution_count": 52,
     "metadata": {},
     "output_type": "execute_result"
    }
   ],
   "source": [
    "train_df.isna().sum()"
   ]
  },
  {
   "cell_type": "markdown",
   "metadata": {},
   "source": [
    "---\n",
    "---\n",
    "---"
   ]
  },
  {
   "cell_type": "code",
   "execution_count": 99,
   "metadata": {},
   "outputs": [
    {
     "name": "stderr",
     "output_type": "stream",
     "text": [
      "100%|██████████| 1077/1077 [00:54<00:00, 19.79it/s]\n",
      "  0%|          | 4/1409 [00:00<00:41, 34.07it/s]"
     ]
    },
    {
     "name": "stdout",
     "output_type": "stream",
     "text": [
      "-------------------------\n",
      "user_id                  0\n",
      "isbn                     0\n",
      "rating                   0\n",
      "age                  92662\n",
      "location_city         7000\n",
      "location_state       16196\n",
      "location_country      6245\n",
      "category            121221\n",
      "publisher                0\n",
      "language            119084\n",
      "book_author              0\n",
      "dtype: int64\n",
      "-------------------------\n"
     ]
    },
    {
     "name": "stderr",
     "output_type": "stream",
     "text": [
      "100%|██████████| 1409/1409 [01:04<00:00, 21.87it/s]\n"
     ]
    },
    {
     "name": "stdout",
     "output_type": "stream",
     "text": [
      "-------------------------\n"
     ]
    },
    {
     "name": "stderr",
     "output_type": "stream",
     "text": [
      "  5%|▌         | 2/38 [00:00<00:02, 16.57it/s]"
     ]
    },
    {
     "name": "stdout",
     "output_type": "stream",
     "text": [
      "user_id                  0\n",
      "isbn                     0\n",
      "rating                   0\n",
      "age                  92662\n",
      "location_city         7000\n",
      "location_state        7050\n",
      "location_country      6245\n",
      "category            121221\n",
      "publisher                0\n",
      "language            119084\n",
      "book_author              0\n",
      "dtype: int64\n",
      "-------------------------\n"
     ]
    },
    {
     "name": "stderr",
     "output_type": "stream",
     "text": [
      "100%|██████████| 38/38 [00:02<00:00, 18.82it/s]\n"
     ]
    },
    {
     "name": "stdout",
     "output_type": "stream",
     "text": [
      "-------------------------\n",
      "user_id                  0\n",
      "isbn                     0\n",
      "rating                   0\n",
      "age                  92662\n",
      "location_city         7000\n",
      "location_state        7050\n",
      "location_country      5981\n",
      "category            121221\n",
      "publisher                0\n",
      "language            119084\n",
      "book_author              0\n",
      "dtype: int64\n",
      "-------------------------\n"
     ]
    }
   ],
   "source": [
    "isna_notnull = [('location_country', 'location_city'), ('location_state', 'location_city'), ('location_country', 'location_state')]\n",
    "for a,b in isna_notnull:\n",
    "    modify_location = list(set(train_df[(train_df[a].isna())&(train_df[b].notnull())][b].values))\n",
    "    # location = users[(users['location'].str.contains('seattle'))&(users[a].notnull())]['location'].value_counts().index[0]\n",
    "    # 바로 윗 줄의 location은 올바른 location 정보를 찾아주기 위함 인듯.\n",
    "    # seattle, , usa 와 같은 데이터들이 존재하기는 했음(주 만 없는)\n",
    "\n",
    "    # location_list = []\n",
    "    for location in tqdm.tqdm(modify_location):\n",
    "        try:\n",
    "            right_location = train_df[(train_df[b] == location)][a].value_counts().index[0]\n",
    "            train_df.loc[(train_df[b] == location) & train_df[a].isna(), a] = right_location\n",
    "            # location_list.append(right_location)\n",
    "        except:\n",
    "            pass\n",
    "\n",
    "    # for location in location_list:\n",
    "        \n",
    "        # users.loc[users[users['location_city']==location.split(',')[0]].index,'location_state'] = location.split(',')[1]\n",
    "        # users.loc[users[users[b]==location.split(',')[0]].index,a] = location.split(',')[2]\n",
    "\n",
    "    print('-'*25)\n",
    "    print(train_df.isna().sum())\n",
    "    print('-'*25)"
   ]
  },
  {
   "cell_type": "code",
   "execution_count": 100,
   "metadata": {},
   "outputs": [
    {
     "name": "stderr",
     "output_type": "stream",
     "text": [
      "100%|██████████| 584/584 [00:07<00:00, 78.43it/s]\n",
      "  0%|          | 0/710 [00:00<?, ?it/s]"
     ]
    },
    {
     "name": "stdout",
     "output_type": "stream",
     "text": [
      "-------------------------\n",
      "user_id                 0\n",
      "isbn                    0\n",
      "rating                  0\n",
      "age                 23125\n",
      "location_city        1802\n",
      "location_state       4067\n",
      "location_country     1663\n",
      "category            30319\n",
      "publisher               0\n",
      "language            29790\n",
      "book_author             0\n",
      "dtype: int64\n",
      "-------------------------\n"
     ]
    },
    {
     "name": "stderr",
     "output_type": "stream",
     "text": [
      "100%|██████████| 710/710 [00:08<00:00, 84.16it/s]\n",
      "  0%|          | 0/34 [00:00<?, ?it/s]"
     ]
    },
    {
     "name": "stdout",
     "output_type": "stream",
     "text": [
      "-------------------------\n",
      "user_id                 0\n",
      "isbn                    0\n",
      "rating                  0\n",
      "age                 23125\n",
      "location_city        1802\n",
      "location_state       1898\n",
      "location_country     1663\n",
      "category            30319\n",
      "publisher               0\n",
      "language            29790\n",
      "book_author             0\n",
      "dtype: int64\n",
      "-------------------------\n"
     ]
    },
    {
     "name": "stderr",
     "output_type": "stream",
     "text": [
      "100%|██████████| 34/34 [00:00<00:00, 71.41it/s]\n"
     ]
    },
    {
     "name": "stdout",
     "output_type": "stream",
     "text": [
      "-------------------------\n",
      "user_id                 0\n",
      "isbn                    0\n",
      "rating                  0\n",
      "age                 23125\n",
      "location_city        1802\n",
      "location_state       1898\n",
      "location_country     1576\n",
      "category            30319\n",
      "publisher               0\n",
      "language            29790\n",
      "book_author             0\n",
      "dtype: int64\n",
      "-------------------------\n"
     ]
    }
   ],
   "source": [
    "isna_notnull = [('location_country', 'location_city'), ('location_state', 'location_city'), ('location_country', 'location_state')]\n",
    "for a,b in isna_notnull:\n",
    "    modify_location = list(set(test_df[(test_df[a].isna())&(test_df[b].notnull())][b].values))\n",
    "    # location = users[(users['location'].str.contains('seattle'))&(users[a].notnull())]['location'].value_counts().index[0]\n",
    "    # 바로 윗 줄의 location은 올바른 location 정보를 찾아주기 위함 인듯.\n",
    "    # seattle, , usa 와 같은 데이터들이 존재하기는 했음(주 만 없는)\n",
    "\n",
    "    # location_list = []\n",
    "    for location in tqdm.tqdm(modify_location):\n",
    "        try:\n",
    "            right_location = test_df[(test_df[b] == location)][a].value_counts().index[0]\n",
    "            test_df.loc[(test_df[b] == location) & test_df[a].isna(), a] = right_location\n",
    "            # location_list.append(right_location)\n",
    "        except:\n",
    "            pass\n",
    "\n",
    "    # for location in location_list:\n",
    "        \n",
    "        # users.loc[users[users['location_city']==location.split(',')[0]].index,'location_state'] = location.split(',')[1]\n",
    "        # users.loc[users[users[b]==location.split(',')[0]].index,a] = location.split(',')[2]\n",
    "\n",
    "    print('-'*25)\n",
    "    print(test_df.isna().sum())\n",
    "    print('-'*25)"
   ]
  },
  {
   "cell_type": "code",
   "execution_count": 55,
   "metadata": {},
   "outputs": [
    {
     "data": {
      "text/html": [
       "<div>\n",
       "<style scoped>\n",
       "    .dataframe tbody tr th:only-of-type {\n",
       "        vertical-align: middle;\n",
       "    }\n",
       "\n",
       "    .dataframe tbody tr th {\n",
       "        vertical-align: top;\n",
       "    }\n",
       "\n",
       "    .dataframe thead th {\n",
       "        text-align: right;\n",
       "    }\n",
       "</style>\n",
       "<table border=\"1\" class=\"dataframe\">\n",
       "  <thead>\n",
       "    <tr style=\"text-align: right;\">\n",
       "      <th></th>\n",
       "      <th>user_id</th>\n",
       "      <th>isbn</th>\n",
       "      <th>rating</th>\n",
       "      <th>age</th>\n",
       "      <th>location_city</th>\n",
       "      <th>location_state</th>\n",
       "      <th>location_country</th>\n",
       "      <th>category</th>\n",
       "      <th>publisher</th>\n",
       "      <th>language</th>\n",
       "      <th>book_author</th>\n",
       "    </tr>\n",
       "  </thead>\n",
       "  <tbody>\n",
       "    <tr>\n",
       "      <th>2058</th>\n",
       "      <td>130482</td>\n",
       "      <td>0151008116</td>\n",
       "      <td>0</td>\n",
       "      <td>54.0</td>\n",
       "      <td>earth</td>\n",
       "      <td>milkyway</td>\n",
       "      <td>universe</td>\n",
       "      <td>['Fiction']</td>\n",
       "      <td>Harcourt</td>\n",
       "      <td>en</td>\n",
       "      <td>Yann Martel</td>\n",
       "    </tr>\n",
       "    <tr>\n",
       "      <th>4247</th>\n",
       "      <td>130482</td>\n",
       "      <td>0618173870</td>\n",
       "      <td>0</td>\n",
       "      <td>54.0</td>\n",
       "      <td>earth</td>\n",
       "      <td>milkyway</td>\n",
       "      <td>universe</td>\n",
       "      <td>NaN</td>\n",
       "      <td>Houghton Mifflin Company</td>\n",
       "      <td>NaN</td>\n",
       "      <td>Jonathan Safran Foer</td>\n",
       "    </tr>\n",
       "    <tr>\n",
       "      <th>5341</th>\n",
       "      <td>130482</td>\n",
       "      <td>0062517856</td>\n",
       "      <td>0</td>\n",
       "      <td>54.0</td>\n",
       "      <td>earth</td>\n",
       "      <td>milkyway</td>\n",
       "      <td>universe</td>\n",
       "      <td>NaN</td>\n",
       "      <td>HarperSanFrancisco</td>\n",
       "      <td>NaN</td>\n",
       "      <td>Tim Farrington</td>\n",
       "    </tr>\n",
       "    <tr>\n",
       "      <th>23648</th>\n",
       "      <td>33049</td>\n",
       "      <td>0064403688</td>\n",
       "      <td>0</td>\n",
       "      <td>NaN</td>\n",
       "      <td>earth</td>\n",
       "      <td>milkyway</td>\n",
       "      <td>usa</td>\n",
       "      <td>['Juvenile Fiction']</td>\n",
       "      <td>HarperTrophy</td>\n",
       "      <td>en</td>\n",
       "      <td>Katherine Paterson</td>\n",
       "    </tr>\n",
       "    <tr>\n",
       "      <th>24382</th>\n",
       "      <td>130482</td>\n",
       "      <td>0805210288</td>\n",
       "      <td>0</td>\n",
       "      <td>54.0</td>\n",
       "      <td>earth</td>\n",
       "      <td>milkyway</td>\n",
       "      <td>universe</td>\n",
       "      <td>['Biography &amp; Autobiography']</td>\n",
       "      <td>Schocken Books</td>\n",
       "      <td>en</td>\n",
       "      <td>Elie Wiesel</td>\n",
       "    </tr>\n",
       "  </tbody>\n",
       "</table>\n",
       "</div>"
      ],
      "text/plain": [
       "       user_id        isbn  rating   age location_city location_state  \\\n",
       "2058    130482  0151008116       0  54.0         earth       milkyway   \n",
       "4247    130482  0618173870       0  54.0         earth       milkyway   \n",
       "5341    130482  0062517856       0  54.0         earth       milkyway   \n",
       "23648    33049  0064403688       0   NaN         earth       milkyway   \n",
       "24382   130482  0805210288       0  54.0         earth       milkyway   \n",
       "\n",
       "      location_country                       category  \\\n",
       "2058          universe                    ['Fiction']   \n",
       "4247          universe                            NaN   \n",
       "5341          universe                            NaN   \n",
       "23648              usa           ['Juvenile Fiction']   \n",
       "24382         universe  ['Biography & Autobiography']   \n",
       "\n",
       "                      publisher language           book_author  \n",
       "2058                   Harcourt       en           Yann Martel  \n",
       "4247   Houghton Mifflin Company      NaN  Jonathan Safran Foer  \n",
       "5341         HarperSanFrancisco      NaN        Tim Farrington  \n",
       "23648              HarperTrophy       en    Katherine Paterson  \n",
       "24382            Schocken Books       en           Elie Wiesel  "
      ]
     },
     "execution_count": 55,
     "metadata": {},
     "output_type": "execute_result"
    }
   ],
   "source": [
    "test_df[test_df['location_city'] == 'earth'].head()"
   ]
  },
  {
   "cell_type": "markdown",
   "metadata": {},
   "source": [
    "---\n",
    "---\n",
    "---"
   ]
  },
  {
   "cell_type": "markdown",
   "metadata": {},
   "source": [
    "#### Country별 ratings 비교"
   ]
  },
  {
   "cell_type": "code",
   "execution_count": 49,
   "metadata": {},
   "outputs": [
    {
     "data": {
      "text/plain": [
       "209"
      ]
     },
     "execution_count": 49,
     "metadata": {},
     "output_type": "execute_result"
    }
   ],
   "source": [
    "len(set(train_df.location_country))"
   ]
  },
  {
   "cell_type": "code",
   "execution_count": 50,
   "metadata": {},
   "outputs": [
    {
     "data": {
      "image/png": "[encoded data removed]",
      "text/plain": [
       "<Figure size 1200x800 with 40 Axes>"
      ]
     },
     "metadata": {},
     "output_type": "display_data"
    }
   ],
   "source": [
    "country_rating_count = pd.DataFrame(train_df.groupby('location_country')['rating'].count())\n",
    "top_40_ctry = country_rating_count.rating.sort_values(ascending=False)[:40].index\n",
    "\n",
    "fig, ax = plt.subplots(8,5,figsize=(12,8))\n",
    "for country, ax_ in zip(top_40_ctry, ax.flatten()):\n",
    "    train_df[train_df['location_country'] == country]['rating'].value_counts().sort_index().plot(ax=ax_, title=country, kind='bar')\n",
    "    # users[(users['location_country']==country)]['age'].value_counts().sort_index().plot(ax=ax_, title=country)\n",
    "plt.xlim(0,10)\n",
    "plt.tight_layout()\n",
    "plt.show()"
   ]
  },
  {
   "cell_type": "markdown",
   "metadata": {},
   "source": [
    "- 상위 40개만 뽑아봤는데 꽤 연관이 없는듯 있어보이기도 한다?\n",
    "- 특정 나라의 경우 분포가 다르기도 함\n",
    "- ex) 스웨덴, 핀란드, 오스트리아, 덴마크...는 1점의 비율이 높고 1점이 거의 존재하지 않는 나라들도 있고"
   ]
  },
  {
   "cell_type": "code",
   "execution_count": 135,
   "metadata": {},
   "outputs": [
    {
     "data": {
      "image/png": "[encoded data removed]",
      "text/plain": [
       "<Figure size 640x480 with 1 Axes>"
      ]
     },
     "metadata": {},
     "output_type": "display_data"
    }
   ],
   "source": [
    "train_df[train_df['location_country'] == 'us']['rating'].value_counts().sort_index().plot(kind='bar');"
   ]
  },
  {
   "cell_type": "code",
   "execution_count": 56,
   "metadata": {},
   "outputs": [
    {
     "data": {
      "text/html": [
       "<div>\n",
       "<style scoped>\n",
       "    .dataframe tbody tr th:only-of-type {\n",
       "        vertical-align: middle;\n",
       "    }\n",
       "\n",
       "    .dataframe tbody tr th {\n",
       "        vertical-align: top;\n",
       "    }\n",
       "\n",
       "    .dataframe thead th {\n",
       "        text-align: right;\n",
       "    }\n",
       "</style>\n",
       "<table border=\"1\" class=\"dataframe\">\n",
       "  <thead>\n",
       "    <tr style=\"text-align: right;\">\n",
       "      <th></th>\n",
       "      <th>user_id</th>\n",
       "      <th>isbn</th>\n",
       "      <th>rating</th>\n",
       "      <th>age</th>\n",
       "      <th>location_city</th>\n",
       "      <th>location_state</th>\n",
       "      <th>location_country</th>\n",
       "      <th>category</th>\n",
       "      <th>publisher</th>\n",
       "      <th>language</th>\n",
       "      <th>book_author</th>\n",
       "    </tr>\n",
       "  </thead>\n",
       "  <tbody>\n",
       "    <tr>\n",
       "      <th>1</th>\n",
       "      <td>67544</td>\n",
       "      <td>0002005018</td>\n",
       "      <td>7</td>\n",
       "      <td>30.0</td>\n",
       "      <td>toronto</td>\n",
       "      <td>ontario</td>\n",
       "      <td>canada</td>\n",
       "      <td>['Actresses']</td>\n",
       "      <td>HarperFlamingo Canada</td>\n",
       "      <td>en</td>\n",
       "      <td>Richard Bruce Wright</td>\n",
       "    </tr>\n",
       "    <tr>\n",
       "      <th>5</th>\n",
       "      <td>219008</td>\n",
       "      <td>0002005018</td>\n",
       "      <td>7</td>\n",
       "      <td>60.0</td>\n",
       "      <td>halifax</td>\n",
       "      <td>novascotia</td>\n",
       "      <td>canada</td>\n",
       "      <td>['Actresses']</td>\n",
       "      <td>HarperFlamingo Canada</td>\n",
       "      <td>en</td>\n",
       "      <td>Richard Bruce Wright</td>\n",
       "    </tr>\n",
       "    <tr>\n",
       "      <th>6</th>\n",
       "      <td>263325</td>\n",
       "      <td>0002005018</td>\n",
       "      <td>5</td>\n",
       "      <td>27.0</td>\n",
       "      <td>fredericton</td>\n",
       "      <td>newbrunswick</td>\n",
       "      <td>canada</td>\n",
       "      <td>['Actresses']</td>\n",
       "      <td>HarperFlamingo Canada</td>\n",
       "      <td>en</td>\n",
       "      <td>Richard Bruce Wright</td>\n",
       "    </tr>\n",
       "    <tr>\n",
       "      <th>7</th>\n",
       "      <td>2954</td>\n",
       "      <td>0060973129</td>\n",
       "      <td>8</td>\n",
       "      <td>71.0</td>\n",
       "      <td>wichita</td>\n",
       "      <td>kansas</td>\n",
       "      <td>usa</td>\n",
       "      <td>['1940-1949']</td>\n",
       "      <td>HarperPerennial</td>\n",
       "      <td>en</td>\n",
       "      <td>Carlo D'Este</td>\n",
       "    </tr>\n",
       "    <tr>\n",
       "      <th>8</th>\n",
       "      <td>35704</td>\n",
       "      <td>0374157065</td>\n",
       "      <td>6</td>\n",
       "      <td>53.0</td>\n",
       "      <td>kansascity</td>\n",
       "      <td>missouri</td>\n",
       "      <td>usa</td>\n",
       "      <td>['Medical']</td>\n",
       "      <td>Farrar Straus Giroux</td>\n",
       "      <td>en</td>\n",
       "      <td>Gina Bari Kolata</td>\n",
       "    </tr>\n",
       "    <tr>\n",
       "      <th>...</th>\n",
       "      <td>...</td>\n",
       "      <td>...</td>\n",
       "      <td>...</td>\n",
       "      <td>...</td>\n",
       "      <td>...</td>\n",
       "      <td>...</td>\n",
       "      <td>...</td>\n",
       "      <td>...</td>\n",
       "      <td>...</td>\n",
       "      <td>...</td>\n",
       "      <td>...</td>\n",
       "    </tr>\n",
       "    <tr>\n",
       "      <th>306790</th>\n",
       "      <td>278843</td>\n",
       "      <td>0743525493</td>\n",
       "      <td>7</td>\n",
       "      <td>28.0</td>\n",
       "      <td>pismobeach</td>\n",
       "      <td>california</td>\n",
       "      <td>usa</td>\n",
       "      <td>NaN</td>\n",
       "      <td>Simon &amp; Schuster Audio</td>\n",
       "      <td>NaN</td>\n",
       "      <td>David Gardner</td>\n",
       "    </tr>\n",
       "    <tr>\n",
       "      <th>306791</th>\n",
       "      <td>278851</td>\n",
       "      <td>067161746X</td>\n",
       "      <td>6</td>\n",
       "      <td>33.0</td>\n",
       "      <td>dallas</td>\n",
       "      <td>texas</td>\n",
       "      <td>usa</td>\n",
       "      <td>['Humor']</td>\n",
       "      <td>Pocket Books</td>\n",
       "      <td>en</td>\n",
       "      <td>P.J. O'Rourke</td>\n",
       "    </tr>\n",
       "    <tr>\n",
       "      <th>306792</th>\n",
       "      <td>278851</td>\n",
       "      <td>0884159221</td>\n",
       "      <td>7</td>\n",
       "      <td>33.0</td>\n",
       "      <td>dallas</td>\n",
       "      <td>texas</td>\n",
       "      <td>usa</td>\n",
       "      <td>NaN</td>\n",
       "      <td>Lone Star Books</td>\n",
       "      <td>NaN</td>\n",
       "      <td>Claude Dooley</td>\n",
       "    </tr>\n",
       "    <tr>\n",
       "      <th>306793</th>\n",
       "      <td>278851</td>\n",
       "      <td>0912333022</td>\n",
       "      <td>7</td>\n",
       "      <td>33.0</td>\n",
       "      <td>dallas</td>\n",
       "      <td>texas</td>\n",
       "      <td>usa</td>\n",
       "      <td>['Fiction']</td>\n",
       "      <td>Kqed Books</td>\n",
       "      <td>en</td>\n",
       "      <td>Jeremy Lloyd</td>\n",
       "    </tr>\n",
       "    <tr>\n",
       "      <th>306794</th>\n",
       "      <td>278851</td>\n",
       "      <td>1569661057</td>\n",
       "      <td>10</td>\n",
       "      <td>33.0</td>\n",
       "      <td>dallas</td>\n",
       "      <td>texas</td>\n",
       "      <td>usa</td>\n",
       "      <td>NaN</td>\n",
       "      <td>American Map Corporation</td>\n",
       "      <td>NaN</td>\n",
       "      <td>Mapsco</td>\n",
       "    </tr>\n",
       "  </tbody>\n",
       "</table>\n",
       "<p>214133 rows × 11 columns</p>\n",
       "</div>"
      ],
      "text/plain": [
       "        user_id        isbn  rating   age location_city location_state  \\\n",
       "1         67544  0002005018       7  30.0       toronto        ontario   \n",
       "5        219008  0002005018       7  60.0       halifax     novascotia   \n",
       "6        263325  0002005018       5  27.0   fredericton   newbrunswick   \n",
       "7          2954  0060973129       8  71.0       wichita         kansas   \n",
       "8         35704  0374157065       6  53.0    kansascity       missouri   \n",
       "...         ...         ...     ...   ...           ...            ...   \n",
       "306790   278843  0743525493       7  28.0    pismobeach     california   \n",
       "306791   278851  067161746X       6  33.0        dallas          texas   \n",
       "306792   278851  0884159221       7  33.0        dallas          texas   \n",
       "306793   278851  0912333022       7  33.0        dallas          texas   \n",
       "306794   278851  1569661057      10  33.0        dallas          texas   \n",
       "\n",
       "       location_country       category                 publisher language  \\\n",
       "1                canada  ['Actresses']     HarperFlamingo Canada       en   \n",
       "5                canada  ['Actresses']     HarperFlamingo Canada       en   \n",
       "6                canada  ['Actresses']     HarperFlamingo Canada       en   \n",
       "7                   usa  ['1940-1949']           HarperPerennial       en   \n",
       "8                   usa    ['Medical']      Farrar Straus Giroux       en   \n",
       "...                 ...            ...                       ...      ...   \n",
       "306790              usa            NaN    Simon & Schuster Audio      NaN   \n",
       "306791              usa      ['Humor']              Pocket Books       en   \n",
       "306792              usa            NaN           Lone Star Books      NaN   \n",
       "306793              usa    ['Fiction']                Kqed Books       en   \n",
       "306794              usa            NaN  American Map Corporation      NaN   \n",
       "\n",
       "                 book_author  \n",
       "1       Richard Bruce Wright  \n",
       "5       Richard Bruce Wright  \n",
       "6       Richard Bruce Wright  \n",
       "7               Carlo D'Este  \n",
       "8           Gina Bari Kolata  \n",
       "...                      ...  \n",
       "306790         David Gardner  \n",
       "306791         P.J. O'Rourke  \n",
       "306792         Claude Dooley  \n",
       "306793          Jeremy Lloyd  \n",
       "306794                Mapsco  \n",
       "\n",
       "[214133 rows x 11 columns]"
      ]
     },
     "execution_count": 56,
     "metadata": {},
     "output_type": "execute_result"
    }
   ],
   "source": [
    "train_age_nn = train_df[train_df['age'].notnull()]\n",
    "train_age_nn"
   ]
  },
  {
   "cell_type": "markdown",
   "metadata": {},
   "source": [
    "#### age 별 rating 비교 (전처리 전)"
   ]
  },
  {
   "cell_type": "code",
   "execution_count": 58,
   "metadata": {},
   "outputs": [
    {
     "name": "stderr",
     "output_type": "stream",
     "text": [
      "/tmp/ipykernel_20330/2052953983.py:1: SettingWithCopyWarning: \n",
      "A value is trying to be set on a copy of a slice from a DataFrame.\n",
      "Try using .loc[row_indexer,col_indexer] = value instead\n",
      "\n",
      "See the caveats in the documentation: https://pandas.pydata.org/pandas-docs/stable/user_guide/indexing.html#returning-a-view-versus-a-copy\n",
      "  train_age_nn['age_c'] = train_age_nn['age']//10\n"
     ]
    }
   ],
   "source": [
    "train_age_nn['age_c'] = train_age_nn['age']//10"
   ]
  },
  {
   "cell_type": "code",
   "execution_count": 62,
   "metadata": {},
   "outputs": [
    {
     "data": {
      "text/plain": [
       "(0.0, 9.0)"
      ]
     },
     "execution_count": 62,
     "metadata": {},
     "output_type": "execute_result"
    }
   ],
   "source": [
    "train_age_nn['age_c'].min(), train_age_nn['age_c'].max()"
   ]
  },
  {
   "cell_type": "code",
   "execution_count": 87,
   "metadata": {},
   "outputs": [
    {
     "data": {
      "image/png": "[encoded data removed]",
      "text/plain": [
       "<Figure size 1200x800 with 10 Axes>"
      ]
     },
     "metadata": {},
     "output_type": "display_data"
    }
   ],
   "source": [
    "fig, ax = plt.subplots(5,2,figsize=(12,8))\n",
    "for age, ax_ in zip(range(10), ax.flatten()):\n",
    "    sns.violinplot(ax = ax_, x=\"rating\", data=train_age_nn[train_age_nn['age_c']==age]).set(title = f'ratings distribution of {age*10}-{age*10 + 10}Ages')\n",
    "plt.xlim(-1,11)\n",
    "plt.tight_layout()\n",
    "plt.show()"
   ]
  },
  {
   "cell_type": "code",
   "execution_count": 71,
   "metadata": {},
   "outputs": [
    {
     "data": {
      "image/png": "[encoded data removed]",
      "text/plain": [
       "<Figure size 1200x800 with 1 Axes>"
      ]
     },
     "metadata": {},
     "output_type": "display_data"
    }
   ],
   "source": [
    "plt.figure(figsize = (12,8))\n",
    "sns.violinplot(x=\"age_c\", y='rating', data=train_age_nn)\n",
    "plt.title('rating distribution for each age_c')\n",
    "plt.show()"
   ]
  },
  {
   "cell_type": "code",
   "execution_count": 80,
   "metadata": {},
   "outputs": [
    {
     "data": {
      "image/png": "[encoded data removed]",
      "text/plain": [
       "<Figure size 640x480 with 1 Axes>"
      ]
     },
     "metadata": {},
     "output_type": "display_data"
    }
   ],
   "source": [
    "train_age_nn.groupby('age_c').mean()['rating'].plot(kind='bar')\n",
    "plt.title('Avg rating for age_c')\n",
    "plt.show()"
   ]
  },
  {
   "cell_type": "markdown",
   "metadata": {},
   "source": [
    "- 연령대별 특성이 도드라지는 특정 연령대가 있다 (8-90대 or 10대)\n",
    "- 연령대가 생각보다 중요한 역할을 할 수도 있을 것 같다"
   ]
  },
  {
   "cell_type": "code",
   "execution_count": null,
   "metadata": {},
   "outputs": [],
   "source": []
  },
  {
   "cell_type": "code",
   "execution_count": null,
   "metadata": {},
   "outputs": [],
   "source": [
    "# 인덱싱 처리\n",
    "loc_city2idx = {v:k for k,v in enumerate(context_df['location_city'].unique())}\n",
    "loc_state2idx = {v:k for k,v in enumerate(context_df['location_state'].unique())}\n",
    "loc_country2idx = {v:k for k,v in enumerate(context_df['location_country'].unique())}\n",
    "\n",
    "train_df['location_city'] = train_df['location_city'].map(loc_city2idx)\n",
    "train_df['location_state'] = train_df['location_state'].map(loc_state2idx)\n",
    "train_df['location_country'] = train_df['location_country'].map(loc_country2idx)\n",
    "test_df['location_city'] = test_df['location_city'].map(loc_city2idx)\n",
    "test_df['location_state'] = test_df['location_state'].map(loc_state2idx)\n",
    "test_df['location_country'] = test_df['location_country'].map(loc_country2idx)\n",
    "\n",
    "train_df['age'] = train_df['age'].fillna(int(train_df['age'].mean()))\n",
    "train_df['age'] = train_df['age'].apply(age_map)\n",
    "test_df['age'] = test_df['age'].fillna(int(test_df['age'].mean()))\n",
    "test_df['age'] = test_df['age'].apply(age_map)\n",
    "\n",
    "# book 파트 인덱싱\n",
    "category2idx = {v:k for k,v in enumerate(context_df['category'].unique())}\n",
    "publisher2idx = {v:k for k,v in enumerate(context_df['publisher'].unique())}\n",
    "language2idx = {v:k for k,v in enumerate(context_df['language'].unique())}\n",
    "author2idx = {v:k for k,v in enumerate(context_df['book_author'].unique())}\n",
    "\n",
    "train_df['category'] = train_df['category'].map(category2idx)\n",
    "train_df['publisher'] = train_df['publisher'].map(publisher2idx)\n",
    "train_df['language'] = train_df['language'].map(language2idx)\n",
    "train_df['book_author'] = train_df['book_author'].map(author2idx)\n",
    "test_df['category'] = test_df['category'].map(category2idx)\n",
    "test_df['publisher'] = test_df['publisher'].map(publisher2idx)\n",
    "test_df['language'] = test_df['language'].map(language2idx)\n",
    "test_df['book_author'] = test_df['book_author'].map(author2idx)\n",
    "\n",
    "idx = {\n",
    "    \"loc_city2idx\":loc_city2idx,\n",
    "    \"loc_state2idx\":loc_state2idx,\n",
    "    \"loc_country2idx\":loc_country2idx,\n",
    "    \"category2idx\":category2idx,\n",
    "    \"publisher2idx\":publisher2idx,\n",
    "    \"language2idx\":language2idx,\n",
    "    \"author2idx\":author2idx,\n",
    "}\n",
    "\n",
    "    # return idx, train_df, test_df"
   ]
  },
  {
   "cell_type": "code",
   "execution_count": null,
   "metadata": {},
   "outputs": [],
   "source": []
  }
 ],
 "metadata": {
  "kernelspec": {
   "display_name": "Python 3.8.5 ('base')",
   "language": "python",
   "name": "python3"
  },
  "language_info": {
   "codemirror_mode": {
    "name": "ipython",
    "version": 3
   },
   "file_extension": ".py",
   "mimetype": "text/x-python",
   "name": "python",
   "nbconvert_exporter": "python",
   "pygments_lexer": "ipython3",
   "version": "3.8.5"
  },
  "orig_nbformat": 4,
  "vscode": {
   "interpreter": {
    "hash": "d4d1e4263499bec80672ea0156c357c1ee493ec2b1c70f0acce89fc37c4a6abe"
   }
  }
 },
 "nbformat": 4,
 "nbformat_minor": 2
}
